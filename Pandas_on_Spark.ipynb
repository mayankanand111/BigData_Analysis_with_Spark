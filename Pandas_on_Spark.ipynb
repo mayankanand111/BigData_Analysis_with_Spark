{
 "cells": [
  {
   "cell_type": "code",
   "execution_count": 1,
   "id": "e84f0bd4-061d-4faf-b7df-477d74ed5de0",
   "metadata": {},
   "outputs": [],
   "source": [
    "import pyspark"
   ]
  },
  {
   "cell_type": "code",
   "execution_count": 2,
   "id": "a4ff89a0-2071-4344-8be4-8cad5d538dec",
   "metadata": {},
   "outputs": [
    {
     "name": "stderr",
     "output_type": "stream",
     "text": [
      "Picked up JAVA_TOOL_OPTIONS: -Xmx2g\n",
      "Picked up JAVA_TOOL_OPTIONS: -Xmx2g\n",
      "Setting default log level to \"WARN\".\n",
      "To adjust logging level use sc.setLogLevel(newLevel). For SparkR, use setLogLevel(newLevel).\n"
     ]
    },
    {
     "name": "stdout",
     "output_type": "stream",
     "text": [
      "24/02/21 13:06:28 WARN NativeCodeLoader: Unable to load native-hadoop library for your platform... using builtin-java classes where applicable\n"
     ]
    }
   ],
   "source": [
    "sc = pyspark.SparkContext()"
   ]
  },
  {
   "cell_type": "code",
   "execution_count": 3,
   "id": "68a4ad17-b85e-44e9-9599-c90261d79b02",
   "metadata": {},
   "outputs": [],
   "source": [
    "from pyspark.sql import SQLContext"
   ]
  },
  {
   "cell_type": "code",
   "execution_count": 4,
   "id": "2481bef5-f6b2-4845-8594-f47edfde4486",
   "metadata": {},
   "outputs": [
    {
     "name": "stderr",
     "output_type": "stream",
     "text": [
      "/cvmfs/soft.computecanada.ca/easybuild/software/2020/Core/spark/3.3.0/python/pyspark/sql/context.py:112: FutureWarning: Deprecated in 3.0.0. Use SparkSession.builder.getOrCreate() instead.\n",
      "  warnings.warn(\n"
     ]
    }
   ],
   "source": [
    "spark = SQLContext(sc)"
   ]
  },
  {
   "cell_type": "code",
   "execution_count": 5,
   "id": "6fea7b64-e8da-4045-956b-d173d24d9269",
   "metadata": {},
   "outputs": [],
   "source": [
    "surveys_df = spark.read.options(header='true').csv('surveys.csv')"
   ]
  },
  {
   "cell_type": "code",
   "execution_count": 6,
   "id": "e208f783-2363-4295-821f-594c5581034d",
   "metadata": {},
   "outputs": [
    {
     "data": {
      "text/plain": [
       "[Row(record_id='1', month='7', day='16', year='1977', plot_id='2', species_id='NL', sex='M', hindfoot_length='32', weight=None),\n",
       " Row(record_id='2', month='7', day='16', year='1977', plot_id='3', species_id='NL', sex='M', hindfoot_length='33', weight=None),\n",
       " Row(record_id='3', month='7', day='16', year='1977', plot_id='2', species_id='DM', sex='F', hindfoot_length='37', weight=None),\n",
       " Row(record_id='4', month='7', day='16', year='1977', plot_id='7', species_id='DM', sex='M', hindfoot_length='36', weight=None),\n",
       " Row(record_id='5', month='7', day='16', year='1977', plot_id='3', species_id='DM', sex='M', hindfoot_length='35', weight=None)]"
      ]
     },
     "execution_count": 6,
     "metadata": {},
     "output_type": "execute_result"
    }
   ],
   "source": [
    "surveys_df.head(5)"
   ]
  },
  {
   "cell_type": "code",
   "execution_count": 7,
   "id": "3109d79c-02c5-4e73-a7c4-9d264a7718ee",
   "metadata": {},
   "outputs": [],
   "source": [
    "# pip show pandas"
   ]
  },
  {
   "cell_type": "code",
   "execution_count": 8,
   "id": "0ad27e0e-24fa-431c-9536-2fda46673291",
   "metadata": {},
   "outputs": [
    {
     "data": {
      "text/html": [
       "<div>\n",
       "<style scoped>\n",
       "    .dataframe tbody tr th:only-of-type {\n",
       "        vertical-align: middle;\n",
       "    }\n",
       "\n",
       "    .dataframe tbody tr th {\n",
       "        vertical-align: top;\n",
       "    }\n",
       "\n",
       "    .dataframe thead th {\n",
       "        text-align: right;\n",
       "    }\n",
       "</style>\n",
       "<table border=\"1\" class=\"dataframe\">\n",
       "  <thead>\n",
       "    <tr style=\"text-align: right;\">\n",
       "      <th></th>\n",
       "      <th>record_id</th>\n",
       "      <th>month</th>\n",
       "      <th>day</th>\n",
       "      <th>year</th>\n",
       "      <th>plot_id</th>\n",
       "      <th>species_id</th>\n",
       "      <th>sex</th>\n",
       "      <th>hindfoot_length</th>\n",
       "      <th>weight</th>\n",
       "    </tr>\n",
       "  </thead>\n",
       "  <tbody>\n",
       "    <tr>\n",
       "      <th>0</th>\n",
       "      <td>1</td>\n",
       "      <td>7</td>\n",
       "      <td>16</td>\n",
       "      <td>1977</td>\n",
       "      <td>2</td>\n",
       "      <td>NL</td>\n",
       "      <td>M</td>\n",
       "      <td>32</td>\n",
       "      <td>None</td>\n",
       "    </tr>\n",
       "    <tr>\n",
       "      <th>1</th>\n",
       "      <td>2</td>\n",
       "      <td>7</td>\n",
       "      <td>16</td>\n",
       "      <td>1977</td>\n",
       "      <td>3</td>\n",
       "      <td>NL</td>\n",
       "      <td>M</td>\n",
       "      <td>33</td>\n",
       "      <td>None</td>\n",
       "    </tr>\n",
       "    <tr>\n",
       "      <th>2</th>\n",
       "      <td>3</td>\n",
       "      <td>7</td>\n",
       "      <td>16</td>\n",
       "      <td>1977</td>\n",
       "      <td>2</td>\n",
       "      <td>DM</td>\n",
       "      <td>F</td>\n",
       "      <td>37</td>\n",
       "      <td>None</td>\n",
       "    </tr>\n",
       "    <tr>\n",
       "      <th>3</th>\n",
       "      <td>4</td>\n",
       "      <td>7</td>\n",
       "      <td>16</td>\n",
       "      <td>1977</td>\n",
       "      <td>7</td>\n",
       "      <td>DM</td>\n",
       "      <td>M</td>\n",
       "      <td>36</td>\n",
       "      <td>None</td>\n",
       "    </tr>\n",
       "    <tr>\n",
       "      <th>4</th>\n",
       "      <td>5</td>\n",
       "      <td>7</td>\n",
       "      <td>16</td>\n",
       "      <td>1977</td>\n",
       "      <td>3</td>\n",
       "      <td>DM</td>\n",
       "      <td>M</td>\n",
       "      <td>35</td>\n",
       "      <td>None</td>\n",
       "    </tr>\n",
       "  </tbody>\n",
       "</table>\n",
       "</div>"
      ],
      "text/plain": [
       "  record_id month day  year plot_id species_id sex hindfoot_length weight\n",
       "0         1     7  16  1977       2         NL   M              32   None\n",
       "1         2     7  16  1977       3         NL   M              33   None\n",
       "2         3     7  16  1977       2         DM   F              37   None\n",
       "3         4     7  16  1977       7         DM   M              36   None\n",
       "4         5     7  16  1977       3         DM   M              35   None"
      ]
     },
     "execution_count": 8,
     "metadata": {},
     "output_type": "execute_result"
    }
   ],
   "source": [
    "import pandas as pd\n",
    "\n",
    "surveys_df.limit(5).toPandas()"
   ]
  },
  {
   "cell_type": "code",
   "execution_count": 9,
   "id": "e40ff19a-ce73-40f2-b1ab-9f1f75500a1a",
   "metadata": {},
   "outputs": [
    {
     "data": {
      "text/plain": [
       "13937"
      ]
     },
     "execution_count": 9,
     "metadata": {},
     "output_type": "execute_result"
    }
   ],
   "source": [
    "surveys_df.select(\"record_id\").where(surveys_df.weight > 40).count()"
   ]
  },
  {
   "cell_type": "code",
   "execution_count": 10,
   "id": "348311e7-8d80-4b0d-9979-2164ea2a1e24",
   "metadata": {},
   "outputs": [
    {
     "data": {
      "text/plain": [
       "[Row(record_id='64', year='1977'),\n",
       " Row(record_id='66', year='1977'),\n",
       " Row(record_id='68', year='1977'),\n",
       " Row(record_id='79', year='1977'),\n",
       " Row(record_id='82', year='1977')]"
      ]
     },
     "execution_count": 10,
     "metadata": {},
     "output_type": "execute_result"
    }
   ],
   "source": [
    "surveys_df.select(\"record_id\",\"year\").where(surveys_df.weight > 40).take(5)"
   ]
  },
  {
   "cell_type": "code",
   "execution_count": 11,
   "id": "e7ece3a7-0994-471d-9424-5b31db4363d2",
   "metadata": {},
   "outputs": [
    {
     "data": {
      "text/plain": [
       "['record_id',\n",
       " 'month',\n",
       " 'day',\n",
       " 'year',\n",
       " 'plot_id',\n",
       " 'species_id',\n",
       " 'sex',\n",
       " 'hindfoot_length',\n",
       " 'weight']"
      ]
     },
     "execution_count": 11,
     "metadata": {},
     "output_type": "execute_result"
    }
   ],
   "source": [
    "surveys_df.columns"
   ]
  },
  {
   "cell_type": "code",
   "execution_count": 12,
   "id": "073d7790-5ee8-454e-b4cb-9f484fdbfa10",
   "metadata": {},
   "outputs": [
    {
     "data": {
      "text/plain": [
       "[Row(record_id='1', month='7', day='16', year='1977', species_id='NL', sex='M', hindfoot_length='32', weight=None),\n",
       " Row(record_id='2', month='7', day='16', year='1977', species_id='NL', sex='M', hindfoot_length='33', weight=None),\n",
       " Row(record_id='3', month='7', day='16', year='1977', species_id='DM', sex='F', hindfoot_length='37', weight=None),\n",
       " Row(record_id='4', month='7', day='16', year='1977', species_id='DM', sex='M', hindfoot_length='36', weight=None),\n",
       " Row(record_id='5', month='7', day='16', year='1977', species_id='DM', sex='M', hindfoot_length='35', weight=None)]"
      ]
     },
     "execution_count": 12,
     "metadata": {},
     "output_type": "execute_result"
    }
   ],
   "source": [
    "surveys_df.drop(\"plot_id\").take(5)"
   ]
  },
  {
   "cell_type": "code",
   "execution_count": 13,
   "id": "4d30531f-6c51-4913-9193-3de40c05141c",
   "metadata": {},
   "outputs": [
    {
     "data": {
      "text/plain": [
       "49"
      ]
     },
     "execution_count": 13,
     "metadata": {},
     "output_type": "execute_result"
    }
   ],
   "source": [
    "surveys_df.select(\"species_id\").distinct().count()"
   ]
  },
  {
   "cell_type": "code",
   "execution_count": 14,
   "id": "c375df88-45b7-43d8-a334-c232bffef89d",
   "metadata": {},
   "outputs": [
    {
     "name": "stdout",
     "output_type": "stream",
     "text": [
      "+----------+\n",
      "|species_id|\n",
      "+----------+\n",
      "|        RF|\n",
      "|        PC|\n",
      "|        PM|\n",
      "|        SC|\n",
      "|        PU|\n",
      "|        RO|\n",
      "|        PI|\n",
      "|        NL|\n",
      "|        PL|\n",
      "|        PF|\n",
      "|        UR|\n",
      "|        OL|\n",
      "|        UL|\n",
      "|      null|\n",
      "|        SO|\n",
      "|        PG|\n",
      "|        DX|\n",
      "|        CV|\n",
      "|        SU|\n",
      "|        SA|\n",
      "+----------+\n",
      "only showing top 20 rows\n",
      "\n"
     ]
    }
   ],
   "source": [
    "surveys_df.select(\"species_id\").distinct().show()"
   ]
  },
  {
   "cell_type": "code",
   "execution_count": 15,
   "id": "751602d2-b670-4341-bed4-fc2d400b0d83",
   "metadata": {},
   "outputs": [
    {
     "data": {
      "text/plain": [
       "[Row(year='1977', species_id=None, count=16),\n",
       " Row(year='1977', species_id='DO', count=12),\n",
       " Row(year='1977', species_id='DS', count=98),\n",
       " Row(year='1977', species_id='OX', count=7),\n",
       " Row(year='1977', species_id='NL', count=31)]"
      ]
     },
     "execution_count": 15,
     "metadata": {},
     "output_type": "execute_result"
    }
   ],
   "source": [
    "surveys_df.groupBy(\"year\",\"species_id\").count().orderBy(\"year\").take(5)"
   ]
  },
  {
   "cell_type": "code",
   "execution_count": 16,
   "id": "513151bb-2886-44b2-9af0-9a2b7bdb32e1",
   "metadata": {},
   "outputs": [
    {
     "data": {
      "text/plain": [
       "[Row(record_id='5764', month='4', day='29', year='1982', plot_id='3', species_id='RF', sex='M', hindfoot_length='17', weight='12'),\n",
       " Row(record_id='7029', month='11', day='21', year='1982', plot_id='15', species_id='RF', sex='M', hindfoot_length='16', weight='11'),\n",
       " Row(record_id='14062', month='2', day='21', year='1988', plot_id='19', species_id='RF', sex='F', hindfoot_length='17', weight='11'),\n",
       " Row(record_id='14257', month='3', day='20', year='1988', plot_id='19', species_id='RF', sex='F', hindfoot_length='19', weight='12'),\n",
       " Row(record_id='14361', month='4', day='17', year='1988', plot_id='23', species_id='RF', sex='F', hindfoot_length='17', weight='13')]"
      ]
     },
     "execution_count": 16,
     "metadata": {},
     "output_type": "execute_result"
    }
   ],
   "source": [
    "surveys_df.where(surveys_df.species_id==\"RF\").take(5)"
   ]
  },
  {
   "cell_type": "code",
   "execution_count": 17,
   "id": "bc41bbdf-4a09-4322-be59-708f7fcda26e",
   "metadata": {},
   "outputs": [
    {
     "data": {
      "text/plain": [
       "[Row(record_id='1', month='7', day='16', year='1977', plot_id='2', species_id='NL', sex='M', hindfoot_length='32', weight=None),\n",
       " Row(record_id='2', month='7', day='16', year='1977', plot_id='3', species_id='NL', sex='M', hindfoot_length='33', weight=None),\n",
       " Row(record_id='3', month='7', day='16', year='1977', plot_id='2', species_id='DM', sex='F', hindfoot_length='37', weight=None),\n",
       " Row(record_id='4', month='7', day='16', year='1977', plot_id='7', species_id='DM', sex='M', hindfoot_length='36', weight=None),\n",
       " Row(record_id='5', month='7', day='16', year='1977', plot_id='3', species_id='DM', sex='M', hindfoot_length='35', weight=None)]"
      ]
     },
     "execution_count": 17,
     "metadata": {},
     "output_type": "execute_result"
    }
   ],
   "source": [
    "surveys_df.where(~(surveys_df.species_id==\"RF\")).take(5)"
   ]
  },
  {
   "cell_type": "code",
   "execution_count": 18,
   "id": "8bc60a44-667e-45ad-9944-62426c47dea9",
   "metadata": {},
   "outputs": [
    {
     "data": {
      "text/plain": [
       "[Row(record_id='3', month='7', day='16', year='1977', plot_id='2', species_id='DM', sex='F', hindfoot_length='37', weight=None),\n",
       " Row(record_id='4', month='7', day='16', year='1977', plot_id='7', species_id='DM', sex='M', hindfoot_length='36', weight=None),\n",
       " Row(record_id='5', month='7', day='16', year='1977', plot_id='3', species_id='DM', sex='M', hindfoot_length='35', weight=None),\n",
       " Row(record_id='8', month='7', day='16', year='1977', plot_id='1', species_id='DM', sex='M', hindfoot_length='37', weight=None),\n",
       " Row(record_id='9', month='7', day='16', year='1977', plot_id='1', species_id='DM', sex='F', hindfoot_length='34', weight=None)]"
      ]
     },
     "execution_count": 18,
     "metadata": {},
     "output_type": "execute_result"
    }
   ],
   "source": [
    "surveys_df.where(surveys_df.species_id.like(\"D%\")).take(5)"
   ]
  },
  {
   "cell_type": "markdown",
   "id": "3c0f08e9-4019-47d3-a7b0-55d40cc81f01",
   "metadata": {
    "tags": []
   },
   "source": [
    "## Register"
   ]
  },
  {
   "cell_type": "code",
   "execution_count": 19,
   "id": "ca68bc9d-34f3-4402-8009-028d41e039de",
   "metadata": {},
   "outputs": [
    {
     "name": "stderr",
     "output_type": "stream",
     "text": [
      "/cvmfs/soft.computecanada.ca/easybuild/software/2020/Core/spark/3.3.0/python/pyspark/sql/dataframe.py:229: FutureWarning: Deprecated in 2.0, use createOrReplaceTempView instead.\n",
      "  warnings.warn(\"Deprecated in 2.0, use createOrReplaceTempView instead.\", FutureWarning)\n"
     ]
    }
   ],
   "source": [
    "surveys_df.registerTempTable(\"surveys\")"
   ]
  },
  {
   "cell_type": "markdown",
   "id": "fed57429-1c17-4b66-9b48-c0ac70a35697",
   "metadata": {},
   "source": [
    "### With spark object"
   ]
  },
  {
   "cell_type": "code",
   "execution_count": 20,
   "id": "1ada543b-ce83-4e2a-86dc-351b567451f7",
   "metadata": {},
   "outputs": [
    {
     "data": {
      "text/plain": [
       "[Row(record_id='64'),\n",
       " Row(record_id='66'),\n",
       " Row(record_id='68'),\n",
       " Row(record_id='79'),\n",
       " Row(record_id='82')]"
      ]
     },
     "execution_count": 20,
     "metadata": {},
     "output_type": "execute_result"
    }
   ],
   "source": [
    "spark.sql(\"SELECT record_id FROM surveys WHERE weight > 40\").take(5)"
   ]
  },
  {
   "cell_type": "code",
   "execution_count": 21,
   "id": "094ce11f-997d-4a69-8860-dbcf839c6707",
   "metadata": {},
   "outputs": [
    {
     "data": {
      "text/plain": [
       "[Row(record_id='1', month='7', day='16', year='1977', plot_id='2', species_id='NL', sex='M', hindfoot_length='32', weight=None),\n",
       " Row(record_id='2', month='7', day='16', year='1977', plot_id='3', species_id='NL', sex='M', hindfoot_length='33', weight=None),\n",
       " Row(record_id='3', month='7', day='16', year='1977', plot_id='2', species_id='DM', sex='F', hindfoot_length='37', weight=None),\n",
       " Row(record_id='4', month='7', day='16', year='1977', plot_id='7', species_id='DM', sex='M', hindfoot_length='36', weight=None),\n",
       " Row(record_id='5', month='7', day='16', year='1977', plot_id='3', species_id='DM', sex='M', hindfoot_length='35', weight=None)]"
      ]
     },
     "execution_count": 21,
     "metadata": {},
     "output_type": "execute_result"
    }
   ],
   "source": [
    "spark.sql(\"SELECT * FROM surveys WHERE species_id NOT IN ('RF')\").take(5)"
   ]
  },
  {
   "cell_type": "code",
   "execution_count": 22,
   "id": "0cd38616-6e8c-4e73-b114-5ebf000aef8a",
   "metadata": {},
   "outputs": [
    {
     "data": {
      "text/plain": [
       "[Row(year='1977', species_id=None, count(record_id)=16),\n",
       " Row(year='1977', species_id='DO', count(record_id)=12),\n",
       " Row(year='1977', species_id='DS', count(record_id)=98),\n",
       " Row(year='1977', species_id='OX', count(record_id)=7),\n",
       " Row(year='1977', species_id='NL', count(record_id)=31)]"
      ]
     },
     "execution_count": 22,
     "metadata": {},
     "output_type": "execute_result"
    }
   ],
   "source": [
    "spark.sql(\"SELECT year, species_id, COUNT(record_id) FROM surveys GROUP BY year, species_id ORDER BY year\").take(5)"
   ]
  },
  {
   "cell_type": "code",
   "execution_count": 23,
   "id": "f0ee34bf-52fc-4816-9a32-3a6dad83639f",
   "metadata": {},
   "outputs": [
    {
     "data": {
      "text/plain": [
       "[Row(record_id='3', month='7', day='16', year='1977', plot_id='2', species_id='DM', sex='F', hindfoot_length='37', weight=None),\n",
       " Row(record_id='4', month='7', day='16', year='1977', plot_id='7', species_id='DM', sex='M', hindfoot_length='36', weight=None),\n",
       " Row(record_id='5', month='7', day='16', year='1977', plot_id='3', species_id='DM', sex='M', hindfoot_length='35', weight=None),\n",
       " Row(record_id='8', month='7', day='16', year='1977', plot_id='1', species_id='DM', sex='M', hindfoot_length='37', weight=None),\n",
       " Row(record_id='9', month='7', day='16', year='1977', plot_id='1', species_id='DM', sex='F', hindfoot_length='34', weight=None)]"
      ]
     },
     "execution_count": 23,
     "metadata": {},
     "output_type": "execute_result"
    }
   ],
   "source": [
    "spark.sql(\"SELECT * FROM surveys WHERE species_id LIKE 'D%'\").take(5)"
   ]
  },
  {
   "cell_type": "markdown",
   "id": "858b6b01-18af-4ea3-aaa3-44da93a8b5c5",
   "metadata": {
    "tags": []
   },
   "source": [
    "### register multiple tables"
   ]
  },
  {
   "cell_type": "code",
   "execution_count": 24,
   "id": "00f16433-7543-42c3-8fa6-6e80659da314",
   "metadata": {},
   "outputs": [
    {
     "data": {
      "text/plain": [
       "[Row(species_id='AB', genus='Amphispiza', species='bilineata', taxa='Bird'),\n",
       " Row(species_id='AH', genus='Ammospermophilus', species='harrisi', taxa='Rodent-not censused'),\n",
       " Row(species_id='AS', genus='Ammodramus', species='savannarum', taxa='Bird'),\n",
       " Row(species_id='BA', genus='Baiomys', species='taylori', taxa='Rodent'),\n",
       " Row(species_id='CB', genus='Campylorhynchus', species='brunneicapillus', taxa='Bird')]"
      ]
     },
     "execution_count": 24,
     "metadata": {},
     "output_type": "execute_result"
    }
   ],
   "source": [
    "species_df = spark.read.options(header='true').csv('species.csv')\n",
    "\n",
    "species_df.registerTempTable(\"species\")\n",
    "\n",
    "spark.sql(\"SELECT * FROM species\").take(5)"
   ]
  },
  {
   "cell_type": "code",
   "execution_count": 25,
   "id": "12978d5f-aabe-43d1-96fd-9b5c3506bed9",
   "metadata": {},
   "outputs": [
    {
     "name": "stdout",
     "output_type": "stream",
     "text": [
      "+---------+-----+---+----+-------+----------+----+---------------+------+----------+-----------+------------+------+\n",
      "|record_id|month|day|year|plot_id|species_id| sex|hindfoot_length|weight|species_id|      genus|     species|  taxa|\n",
      "+---------+-----+---+----+-------+----------+----+---------------+------+----------+-----------+------------+------+\n",
      "|        3|    7| 16|1977|      2|        DM|   F|             37|  null|        DM|  Dipodomys|    merriami|Rodent|\n",
      "|        4|    7| 16|1977|      7|        DM|   M|             36|  null|        DM|  Dipodomys|    merriami|Rodent|\n",
      "|        5|    7| 16|1977|      3|        DM|   M|             35|  null|        DM|  Dipodomys|    merriami|Rodent|\n",
      "|        6|    7| 16|1977|      1|        PF|   M|             14|  null|        PF|Perognathus|      flavus|Rodent|\n",
      "|        7|    7| 16|1977|      2|        PE|   F|           null|  null|        PE| Peromyscus|    eremicus|Rodent|\n",
      "|        8|    7| 16|1977|      1|        DM|   M|             37|  null|        DM|  Dipodomys|    merriami|Rodent|\n",
      "|        9|    7| 16|1977|      1|        DM|   F|             34|  null|        DM|  Dipodomys|    merriami|Rodent|\n",
      "|       10|    7| 16|1977|      6|        PF|   F|             20|  null|        PF|Perognathus|      flavus|Rodent|\n",
      "|       11|    7| 16|1977|      5|        DS|   F|             53|  null|        DS|  Dipodomys| spectabilis|Rodent|\n",
      "|       12|    7| 16|1977|      7|        DM|   M|             38|  null|        DM|  Dipodomys|    merriami|Rodent|\n",
      "|       13|    7| 16|1977|      3|        DM|   M|             35|  null|        DM|  Dipodomys|    merriami|Rodent|\n",
      "|       14|    7| 16|1977|      8|        DM|null|           null|  null|        DM|  Dipodomys|    merriami|Rodent|\n",
      "|       15|    7| 16|1977|      6|        DM|   F|             36|  null|        DM|  Dipodomys|    merriami|Rodent|\n",
      "|       16|    7| 16|1977|      4|        DM|   F|             36|  null|        DM|  Dipodomys|    merriami|Rodent|\n",
      "|       17|    7| 16|1977|      3|        DS|   F|             48|  null|        DS|  Dipodomys| spectabilis|Rodent|\n",
      "|       18|    7| 16|1977|      2|        PP|   M|             22|  null|        PP|Chaetodipus|penicillatus|Rodent|\n",
      "|       19|    7| 16|1977|      4|        PF|null|           null|  null|        PF|Perognathus|      flavus|Rodent|\n",
      "|       20|    7| 17|1977|     11|        DS|   F|             48|  null|        DS|  Dipodomys| spectabilis|Rodent|\n",
      "|       21|    7| 17|1977|     14|        DM|   F|             34|  null|        DM|  Dipodomys|    merriami|Rodent|\n",
      "|       23|    7| 17|1977|     13|        DM|   M|             36|  null|        DM|  Dipodomys|    merriami|Rodent|\n",
      "+---------+-----+---+----+-------+----------+----+---------------+------+----------+-----------+------------+------+\n",
      "only showing top 20 rows\n",
      "\n"
     ]
    }
   ],
   "source": [
    "spark.sql(\"SELECT * FROM surveys JOIN species ON surveys.species_id=species.species_id\").show()"
   ]
  },
  {
   "cell_type": "code",
   "execution_count": 26,
   "id": "c59fe744-34af-42e3-af5f-4bb72e7ec5ed",
   "metadata": {},
   "outputs": [
    {
     "data": {
      "text/plain": [
       "['species', 'surveys']"
      ]
     },
     "execution_count": 26,
     "metadata": {},
     "output_type": "execute_result"
    }
   ],
   "source": [
    "spark.tableNames()"
   ]
  },
  {
   "cell_type": "code",
   "execution_count": 27,
   "id": "d6eb2718-58c1-4437-985c-a9af64bcc296",
   "metadata": {},
   "outputs": [],
   "source": [
    "spark.dropTempTable(\"species\")"
   ]
  },
  {
   "cell_type": "code",
   "execution_count": 28,
   "id": "196a5189-0b5c-4c8a-83fe-88d5c1098829",
   "metadata": {},
   "outputs": [
    {
     "data": {
      "text/plain": [
       "StructType([StructField('record_id', StringType(), True), StructField('month', StringType(), True), StructField('day', StringType(), True), StructField('year', StringType(), True), StructField('plot_id', StringType(), True), StructField('species_id', StringType(), True), StructField('sex', StringType(), True), StructField('hindfoot_length', StringType(), True), StructField('weight', StringType(), True)])"
      ]
     },
     "execution_count": 28,
     "metadata": {},
     "output_type": "execute_result"
    }
   ],
   "source": [
    "surveys_df.schema"
   ]
  },
  {
   "cell_type": "markdown",
   "id": "ed2eb9eb-c9ce-44c6-b5d3-c5bb7ec6d048",
   "metadata": {},
   "source": [
    "### giving schema to csv"
   ]
  },
  {
   "cell_type": "code",
   "execution_count": 29,
   "id": "266684f6-54dd-40a6-85d2-aba5b1b3fdfa",
   "metadata": {},
   "outputs": [],
   "source": [
    "from pyspark.sql.types import *\n",
    "\n",
    "survey_schema = StructType([StructField('record_id',IntegerType()), \n",
    "                     StructField('month',     ByteType()), \n",
    "                     StructField('day',       ByteType()), \n",
    "                     StructField('year',      ShortType()),\n",
    "                     StructField('plot_id',   IntegerType()),\n",
    "                     StructField('species_id',StringType()),\n",
    "                     StructField('sex',       StringType()),\n",
    "                     StructField('hindfoot_length',   FloatType()),\n",
    "                     StructField('weight',    FloatType())\n",
    "           ])"
   ]
  },
  {
   "cell_type": "code",
   "execution_count": 30,
   "id": "0491e02c-1877-4469-a669-b2df076919ab",
   "metadata": {},
   "outputs": [],
   "source": [
    "survey_df = spark.read.options(header='true').csv('surveys.csv', schema=survey_schema)"
   ]
  },
  {
   "cell_type": "code",
   "execution_count": 31,
   "id": "ed912063-95ba-43a0-a136-2cd8c28b0327",
   "metadata": {},
   "outputs": [],
   "source": [
    "survey_df_rdd = survey_df.rdd"
   ]
  },
  {
   "cell_type": "code",
   "execution_count": 32,
   "id": "c45c4e4d-d918-4ae4-91b1-37705a214736",
   "metadata": {},
   "outputs": [],
   "source": [
    "def calculate_ratio(row):\n",
    "    hindfoot_length = row[7]\n",
    "    weight = row[8]\n",
    "    ratio = hindfoot_length / weight if hindfoot_length is not None and weight is not None else None\n",
    "    return tuple(list(row) + [ratio])"
   ]
  },
  {
   "cell_type": "code",
   "execution_count": 33,
   "id": "acaf7978-00a0-4a29-a6eb-9e7b486cfb84",
   "metadata": {},
   "outputs": [],
   "source": [
    "survey_df_rdd_with_ratio = survey_df_rdd.map(calculate_ratio)"
   ]
  },
  {
   "cell_type": "code",
   "execution_count": 34,
   "id": "ae9bf54d-81f4-4dc7-8634-896ea3ef631e",
   "metadata": {},
   "outputs": [
    {
     "name": "stderr",
     "output_type": "stream",
     "text": [
      "                                                                                \r"
     ]
    },
    {
     "data": {
      "text/plain": [
       "[(1, 7, 16, 1977, 2, 'NL', 'M', 32.0, None, None)]"
      ]
     },
     "execution_count": 34,
     "metadata": {},
     "output_type": "execute_result"
    }
   ],
   "source": [
    "survey_df_rdd_with_ratio.take(1)"
   ]
  },
  {
   "cell_type": "code",
   "execution_count": 35,
   "id": "45fda8dd-c52a-4c57-b9a1-76a91d2facb4",
   "metadata": {},
   "outputs": [],
   "source": [
    "new_columns = survey_df.columns + [\"ratio\"]"
   ]
  },
  {
   "cell_type": "code",
   "execution_count": 36,
   "id": "0cfc88da-5d35-48de-848d-0e63c4fee059",
   "metadata": {},
   "outputs": [],
   "source": [
    "surveys_df = survey_df_rdd_with_ratio.toDF(new_columns, sampleRatio = 0.01)"
   ]
  },
  {
   "cell_type": "code",
   "execution_count": 37,
   "id": "251ef6e6-a247-4030-b602-d6f0583dba61",
   "metadata": {},
   "outputs": [
    {
     "data": {
      "text/plain": [
       "[Row(record_id=1, month=7, day=16, year=1977, plot_id=2, species_id='NL', sex='M', hindfoot_length=32.0, weight=None, ratio=None),\n",
       " Row(record_id=2, month=7, day=16, year=1977, plot_id=3, species_id='NL', sex='M', hindfoot_length=33.0, weight=None, ratio=None),\n",
       " Row(record_id=3, month=7, day=16, year=1977, plot_id=2, species_id='DM', sex='F', hindfoot_length=37.0, weight=None, ratio=None),\n",
       " Row(record_id=4, month=7, day=16, year=1977, plot_id=7, species_id='DM', sex='M', hindfoot_length=36.0, weight=None, ratio=None),\n",
       " Row(record_id=5, month=7, day=16, year=1977, plot_id=3, species_id='DM', sex='M', hindfoot_length=35.0, weight=None, ratio=None)]"
      ]
     },
     "execution_count": 37,
     "metadata": {},
     "output_type": "execute_result"
    }
   ],
   "source": [
    "surveys_df.head(5)"
   ]
  },
  {
   "cell_type": "code",
   "execution_count": 38,
   "id": "b943eb7e-165f-461b-89cf-210b3b5a3605",
   "metadata": {},
   "outputs": [],
   "source": [
    "from pyspark.sql.functions import col"
   ]
  },
  {
   "cell_type": "code",
   "execution_count": 39,
   "id": "14a20c33-2145-45e3-9510-69ffaa5f7e7e",
   "metadata": {},
   "outputs": [],
   "source": [
    "filtered_surveys_df = surveys_df.where(col('ratio').isNotNull())"
   ]
  },
  {
   "cell_type": "code",
   "execution_count": 40,
   "id": "f6eb5062-13f2-4ecb-bfbf-3305b634f080",
   "metadata": {},
   "outputs": [
    {
     "data": {
      "text/plain": [
       "[Row(record_id=63, month=8, day=19, year=1977, plot_id=3, species_id='DM', sex='M', hindfoot_length=35.0, weight=40.0, ratio=0.875),\n",
       " Row(record_id=64, month=8, day=19, year=1977, plot_id=7, species_id='DM', sex='M', hindfoot_length=37.0, weight=48.0, ratio=0.7708333333333334),\n",
       " Row(record_id=65, month=8, day=19, year=1977, plot_id=4, species_id='DM', sex='F', hindfoot_length=34.0, weight=29.0, ratio=1.1724137931034482),\n",
       " Row(record_id=66, month=8, day=19, year=1977, plot_id=4, species_id='DM', sex='F', hindfoot_length=35.0, weight=46.0, ratio=0.7608695652173914),\n",
       " Row(record_id=67, month=8, day=19, year=1977, plot_id=7, species_id='DM', sex='M', hindfoot_length=35.0, weight=36.0, ratio=0.9722222222222222)]"
      ]
     },
     "execution_count": 40,
     "metadata": {},
     "output_type": "execute_result"
    }
   ],
   "source": [
    "filtered_surveys_df.head(5)"
   ]
  },
  {
   "cell_type": "code",
   "execution_count": 41,
   "id": "4ae7fe84-568c-4529-9c13-e8b962fbf588",
   "metadata": {},
   "outputs": [
    {
     "name": "stderr",
     "output_type": "stream",
     "text": [
      "WARNING:root:'PYARROW_IGNORE_TIMEZONE' environment variable was not set. It is required to set this environment variable to '1' in both driver and executor sides if you use pyarrow>=2.0.0. pandas-on-Spark will set it for you but it does not work if there is a Spark context already launched.\n"
     ]
    }
   ],
   "source": [
    "import pyspark.pandas as ps"
   ]
  },
  {
   "cell_type": "code",
   "execution_count": 50,
   "id": "a76ec9c2-725f-4a57-942d-3cacdc60cb0b",
   "metadata": {},
   "outputs": [
    {
     "data": {
      "text/html": [
       "<div>\n",
       "<style scoped>\n",
       "    .dataframe tbody tr th:only-of-type {\n",
       "        vertical-align: middle;\n",
       "    }\n",
       "\n",
       "    .dataframe tbody tr th {\n",
       "        vertical-align: top;\n",
       "    }\n",
       "\n",
       "    .dataframe thead th {\n",
       "        text-align: right;\n",
       "    }\n",
       "</style>\n",
       "<table border=\"1\" class=\"dataframe\">\n",
       "  <thead>\n",
       "    <tr style=\"text-align: right;\">\n",
       "      <th></th>\n",
       "      <th>record_id</th>\n",
       "      <th>month</th>\n",
       "      <th>day</th>\n",
       "      <th>year</th>\n",
       "      <th>plot_id</th>\n",
       "      <th>species_id</th>\n",
       "      <th>sex</th>\n",
       "      <th>hindfoot_length</th>\n",
       "      <th>weight</th>\n",
       "      <th>ratio</th>\n",
       "    </tr>\n",
       "  </thead>\n",
       "  <tbody>\n",
       "    <tr>\n",
       "      <th>0</th>\n",
       "      <td>63</td>\n",
       "      <td>8</td>\n",
       "      <td>19</td>\n",
       "      <td>1977</td>\n",
       "      <td>3</td>\n",
       "      <td>DM</td>\n",
       "      <td>M</td>\n",
       "      <td>35.0</td>\n",
       "      <td>40.0</td>\n",
       "      <td>0.875000</td>\n",
       "    </tr>\n",
       "    <tr>\n",
       "      <th>1</th>\n",
       "      <td>64</td>\n",
       "      <td>8</td>\n",
       "      <td>19</td>\n",
       "      <td>1977</td>\n",
       "      <td>7</td>\n",
       "      <td>DM</td>\n",
       "      <td>M</td>\n",
       "      <td>37.0</td>\n",
       "      <td>48.0</td>\n",
       "      <td>0.770833</td>\n",
       "    </tr>\n",
       "    <tr>\n",
       "      <th>2</th>\n",
       "      <td>65</td>\n",
       "      <td>8</td>\n",
       "      <td>19</td>\n",
       "      <td>1977</td>\n",
       "      <td>4</td>\n",
       "      <td>DM</td>\n",
       "      <td>F</td>\n",
       "      <td>34.0</td>\n",
       "      <td>29.0</td>\n",
       "      <td>1.172414</td>\n",
       "    </tr>\n",
       "    <tr>\n",
       "      <th>3</th>\n",
       "      <td>66</td>\n",
       "      <td>8</td>\n",
       "      <td>19</td>\n",
       "      <td>1977</td>\n",
       "      <td>4</td>\n",
       "      <td>DM</td>\n",
       "      <td>F</td>\n",
       "      <td>35.0</td>\n",
       "      <td>46.0</td>\n",
       "      <td>0.760870</td>\n",
       "    </tr>\n",
       "    <tr>\n",
       "      <th>4</th>\n",
       "      <td>67</td>\n",
       "      <td>8</td>\n",
       "      <td>19</td>\n",
       "      <td>1977</td>\n",
       "      <td>7</td>\n",
       "      <td>DM</td>\n",
       "      <td>M</td>\n",
       "      <td>35.0</td>\n",
       "      <td>36.0</td>\n",
       "      <td>0.972222</td>\n",
       "    </tr>\n",
       "  </tbody>\n",
       "</table>\n",
       "</div>"
      ],
      "text/plain": [
       "   record_id  month  day  year  plot_id species_id sex  hindfoot_length  weight     ratio\n",
       "0         63      8   19  1977        3         DM   M             35.0    40.0  0.875000\n",
       "1         64      8   19  1977        7         DM   M             37.0    48.0  0.770833\n",
       "2         65      8   19  1977        4         DM   F             34.0    29.0  1.172414\n",
       "3         66      8   19  1977        4         DM   F             35.0    46.0  0.760870\n",
       "4         67      8   19  1977        7         DM   M             35.0    36.0  0.972222"
      ]
     },
     "execution_count": 50,
     "metadata": {},
     "output_type": "execute_result"
    }
   ],
   "source": [
    "survey_df_pandas = filtered_surveys_df.pandas_api()\n",
    "survey_df_pandas.head()"
   ]
  },
  {
   "cell_type": "code",
   "execution_count": 51,
   "id": "ac17eb0e-d3b6-4f9f-90e9-76baec4e39ef",
   "metadata": {},
   "outputs": [
    {
     "data": {
      "text/html": [
       "<div>\n",
       "<style scoped>\n",
       "    .dataframe tbody tr th:only-of-type {\n",
       "        vertical-align: middle;\n",
       "    }\n",
       "\n",
       "    .dataframe tbody tr th {\n",
       "        vertical-align: top;\n",
       "    }\n",
       "\n",
       "    .dataframe thead th {\n",
       "        text-align: right;\n",
       "    }\n",
       "</style>\n",
       "<table border=\"1\" class=\"dataframe\">\n",
       "  <thead>\n",
       "    <tr style=\"text-align: right;\">\n",
       "      <th></th>\n",
       "      <th>record_id</th>\n",
       "      <th>month</th>\n",
       "      <th>day</th>\n",
       "      <th>year</th>\n",
       "      <th>plot_id</th>\n",
       "      <th>species_id</th>\n",
       "      <th>sex</th>\n",
       "      <th>hindfoot_length</th>\n",
       "      <th>weight</th>\n",
       "    </tr>\n",
       "  </thead>\n",
       "  <tbody>\n",
       "    <tr>\n",
       "      <th>0</th>\n",
       "      <td>1</td>\n",
       "      <td>7</td>\n",
       "      <td>16</td>\n",
       "      <td>1977</td>\n",
       "      <td>2</td>\n",
       "      <td>NL</td>\n",
       "      <td>M</td>\n",
       "      <td>32.0</td>\n",
       "      <td>NaN</td>\n",
       "    </tr>\n",
       "    <tr>\n",
       "      <th>1</th>\n",
       "      <td>2</td>\n",
       "      <td>7</td>\n",
       "      <td>16</td>\n",
       "      <td>1977</td>\n",
       "      <td>3</td>\n",
       "      <td>NL</td>\n",
       "      <td>M</td>\n",
       "      <td>33.0</td>\n",
       "      <td>NaN</td>\n",
       "    </tr>\n",
       "    <tr>\n",
       "      <th>2</th>\n",
       "      <td>3</td>\n",
       "      <td>7</td>\n",
       "      <td>16</td>\n",
       "      <td>1977</td>\n",
       "      <td>2</td>\n",
       "      <td>DM</td>\n",
       "      <td>F</td>\n",
       "      <td>37.0</td>\n",
       "      <td>NaN</td>\n",
       "    </tr>\n",
       "    <tr>\n",
       "      <th>3</th>\n",
       "      <td>4</td>\n",
       "      <td>7</td>\n",
       "      <td>16</td>\n",
       "      <td>1977</td>\n",
       "      <td>7</td>\n",
       "      <td>DM</td>\n",
       "      <td>M</td>\n",
       "      <td>36.0</td>\n",
       "      <td>NaN</td>\n",
       "    </tr>\n",
       "    <tr>\n",
       "      <th>4</th>\n",
       "      <td>5</td>\n",
       "      <td>7</td>\n",
       "      <td>16</td>\n",
       "      <td>1977</td>\n",
       "      <td>3</td>\n",
       "      <td>DM</td>\n",
       "      <td>M</td>\n",
       "      <td>35.0</td>\n",
       "      <td>NaN</td>\n",
       "    </tr>\n",
       "  </tbody>\n",
       "</table>\n",
       "</div>"
      ],
      "text/plain": [
       "   record_id  month  day  year  plot_id species_id sex  hindfoot_length  weight\n",
       "0          1      7   16  1977        2         NL   M             32.0     NaN\n",
       "1          2      7   16  1977        3         NL   M             33.0     NaN\n",
       "2          3      7   16  1977        2         DM   F             37.0     NaN\n",
       "3          4      7   16  1977        7         DM   M             36.0     NaN\n",
       "4          5      7   16  1977        3         DM   M             35.0     NaN"
      ]
     },
     "execution_count": 51,
     "metadata": {},
     "output_type": "execute_result"
    }
   ],
   "source": [
    "import pandas as pd\n",
    "\n",
    "survey_df_local = pd.read_csv(\"surveys.csv\")\n",
    "\n",
    "survey_df_distributed = ps.from_pandas(survey_df_local)\n",
    "survey_df_distributed.head()"
   ]
  },
  {
   "cell_type": "code",
   "execution_count": 52,
   "id": "d094683a-6722-4c2e-ad3a-0a82a7940593",
   "metadata": {},
   "outputs": [
    {
     "data": {
      "text/plain": [
       "0    40.0\n",
       "1    48.0\n",
       "2    29.0\n",
       "3    46.0\n",
       "4    36.0\n",
       "Name: weight, dtype: float64"
      ]
     },
     "execution_count": 52,
     "metadata": {},
     "output_type": "execute_result"
    }
   ],
   "source": [
    "survey_df_pandas['weight'].head()"
   ]
  },
  {
   "cell_type": "code",
   "execution_count": 53,
   "id": "0bf1e22d-8d49-45bd-973d-7b297805322c",
   "metadata": {},
   "outputs": [
    {
     "data": {
      "text/plain": [
       "record_id                75\n",
       "month                     8\n",
       "day                      19\n",
       "year                   1977\n",
       "plot_id                   8\n",
       "species_id               DM\n",
       "sex                       F\n",
       "hindfoot_length        32.0\n",
       "weight                 22.0\n",
       "ratio              1.454545\n",
       "Name: 10, dtype: object"
      ]
     },
     "execution_count": 53,
     "metadata": {},
     "output_type": "execute_result"
    }
   ],
   "source": [
    "survey_df_pandas.iloc[10]"
   ]
  },
  {
   "cell_type": "code",
   "execution_count": 54,
   "id": "4f416241-a737-4361-9347-bbb09e21a700",
   "metadata": {},
   "outputs": [
    {
     "data": {
      "text/html": [
       "<div>\n",
       "<style scoped>\n",
       "    .dataframe tbody tr th:only-of-type {\n",
       "        vertical-align: middle;\n",
       "    }\n",
       "\n",
       "    .dataframe tbody tr th {\n",
       "        vertical-align: top;\n",
       "    }\n",
       "\n",
       "    .dataframe thead th {\n",
       "        text-align: right;\n",
       "    }\n",
       "</style>\n",
       "<table border=\"1\" class=\"dataframe\">\n",
       "  <thead>\n",
       "    <tr style=\"text-align: right;\">\n",
       "      <th></th>\n",
       "      <th>record_id</th>\n",
       "      <th>month</th>\n",
       "      <th>day</th>\n",
       "      <th>year</th>\n",
       "      <th>plot_id</th>\n",
       "      <th>species_id</th>\n",
       "      <th>sex</th>\n",
       "      <th>hindfoot_length</th>\n",
       "      <th>weight</th>\n",
       "      <th>ratio</th>\n",
       "    </tr>\n",
       "  </thead>\n",
       "  <tbody>\n",
       "    <tr>\n",
       "      <th>1</th>\n",
       "      <td>64</td>\n",
       "      <td>8</td>\n",
       "      <td>19</td>\n",
       "      <td>1977</td>\n",
       "      <td>7</td>\n",
       "      <td>DM</td>\n",
       "      <td>M</td>\n",
       "      <td>37.0</td>\n",
       "      <td>48.0</td>\n",
       "      <td>0.770833</td>\n",
       "    </tr>\n",
       "    <tr>\n",
       "      <th>3</th>\n",
       "      <td>66</td>\n",
       "      <td>8</td>\n",
       "      <td>19</td>\n",
       "      <td>1977</td>\n",
       "      <td>4</td>\n",
       "      <td>DM</td>\n",
       "      <td>F</td>\n",
       "      <td>35.0</td>\n",
       "      <td>46.0</td>\n",
       "      <td>0.760870</td>\n",
       "    </tr>\n",
       "    <tr>\n",
       "      <th>5</th>\n",
       "      <td>68</td>\n",
       "      <td>8</td>\n",
       "      <td>19</td>\n",
       "      <td>1977</td>\n",
       "      <td>8</td>\n",
       "      <td>DO</td>\n",
       "      <td>F</td>\n",
       "      <td>32.0</td>\n",
       "      <td>52.0</td>\n",
       "      <td>0.615385</td>\n",
       "    </tr>\n",
       "    <tr>\n",
       "      <th>12</th>\n",
       "      <td>79</td>\n",
       "      <td>8</td>\n",
       "      <td>19</td>\n",
       "      <td>1977</td>\n",
       "      <td>7</td>\n",
       "      <td>DM</td>\n",
       "      <td>F</td>\n",
       "      <td>34.0</td>\n",
       "      <td>42.0</td>\n",
       "      <td>0.809524</td>\n",
       "    </tr>\n",
       "    <tr>\n",
       "      <th>14</th>\n",
       "      <td>82</td>\n",
       "      <td>8</td>\n",
       "      <td>19</td>\n",
       "      <td>1977</td>\n",
       "      <td>4</td>\n",
       "      <td>DM</td>\n",
       "      <td>F</td>\n",
       "      <td>35.0</td>\n",
       "      <td>41.0</td>\n",
       "      <td>0.853659</td>\n",
       "    </tr>\n",
       "  </tbody>\n",
       "</table>\n",
       "</div>"
      ],
      "text/plain": [
       "    record_id  month  day  year  plot_id species_id sex  hindfoot_length  weight     ratio\n",
       "1          64      8   19  1977        7         DM   M             37.0    48.0  0.770833\n",
       "3          66      8   19  1977        4         DM   F             35.0    46.0  0.760870\n",
       "5          68      8   19  1977        8         DO   F             32.0    52.0  0.615385\n",
       "12         79      8   19  1977        7         DM   F             34.0    42.0  0.809524\n",
       "14         82      8   19  1977        4         DM   F             35.0    41.0  0.853659"
      ]
     },
     "execution_count": 54,
     "metadata": {},
     "output_type": "execute_result"
    }
   ],
   "source": [
    "survey_df_pandas[survey_df_pandas.weight > 40].head()"
   ]
  },
  {
   "cell_type": "code",
   "execution_count": 55,
   "id": "46eb56e0-eda7-408e-b801-8e03cbfddc8b",
   "metadata": {},
   "outputs": [
    {
     "name": "stderr",
     "output_type": "stream",
     "text": [
      "                                                                                \r"
     ]
    },
    {
     "data": {
      "text/html": [
       "<div>\n",
       "<style scoped>\n",
       "    .dataframe tbody tr th:only-of-type {\n",
       "        vertical-align: middle;\n",
       "    }\n",
       "\n",
       "    .dataframe tbody tr th {\n",
       "        vertical-align: top;\n",
       "    }\n",
       "\n",
       "    .dataframe thead th {\n",
       "        text-align: right;\n",
       "    }\n",
       "</style>\n",
       "<table border=\"1\" class=\"dataframe\">\n",
       "  <thead>\n",
       "    <tr style=\"text-align: right;\">\n",
       "      <th></th>\n",
       "      <th>record_id</th>\n",
       "      <th>month</th>\n",
       "      <th>day</th>\n",
       "      <th>year</th>\n",
       "      <th>plot_id</th>\n",
       "      <th>hindfoot_length</th>\n",
       "      <th>weight</th>\n",
       "      <th>ratio</th>\n",
       "    </tr>\n",
       "  </thead>\n",
       "  <tbody>\n",
       "    <tr>\n",
       "      <th>count</th>\n",
       "      <td>30738.000000</td>\n",
       "      <td>30738.000000</td>\n",
       "      <td>30738.000000</td>\n",
       "      <td>30738.000000</td>\n",
       "      <td>30738.000000</td>\n",
       "      <td>30738.000000</td>\n",
       "      <td>30738.000000</td>\n",
       "      <td>30738.000000</td>\n",
       "    </tr>\n",
       "    <tr>\n",
       "      <th>mean</th>\n",
       "      <td>18474.403117</td>\n",
       "      <td>6.549548</td>\n",
       "      <td>16.179387</td>\n",
       "      <td>1990.980057</td>\n",
       "      <td>11.222916</td>\n",
       "      <td>29.205413</td>\n",
       "      <td>41.766380</td>\n",
       "      <td>0.965566</td>\n",
       "    </tr>\n",
       "    <tr>\n",
       "      <th>std</th>\n",
       "      <td>10077.240650</td>\n",
       "      <td>3.443694</td>\n",
       "      <td>8.157614</td>\n",
       "      <td>7.363040</td>\n",
       "      <td>6.797339</td>\n",
       "      <td>9.542914</td>\n",
       "      <td>35.658817</td>\n",
       "      <td>0.449165</td>\n",
       "    </tr>\n",
       "    <tr>\n",
       "      <th>min</th>\n",
       "      <td>63.000000</td>\n",
       "      <td>1.000000</td>\n",
       "      <td>1.000000</td>\n",
       "      <td>1977.000000</td>\n",
       "      <td>1.000000</td>\n",
       "      <td>2.000000</td>\n",
       "      <td>4.000000</td>\n",
       "      <td>0.066667</td>\n",
       "    </tr>\n",
       "    <tr>\n",
       "      <th>25%</th>\n",
       "      <td>9876.000000</td>\n",
       "      <td>4.000000</td>\n",
       "      <td>10.000000</td>\n",
       "      <td>1985.000000</td>\n",
       "      <td>5.000000</td>\n",
       "      <td>21.000000</td>\n",
       "      <td>20.000000</td>\n",
       "      <td>0.724138</td>\n",
       "    </tr>\n",
       "    <tr>\n",
       "      <th>50%</th>\n",
       "      <td>18662.000000</td>\n",
       "      <td>7.000000</td>\n",
       "      <td>16.000000</td>\n",
       "      <td>1991.000000</td>\n",
       "      <td>11.000000</td>\n",
       "      <td>31.000000</td>\n",
       "      <td>36.000000</td>\n",
       "      <td>0.850000</td>\n",
       "    </tr>\n",
       "    <tr>\n",
       "      <th>75%</th>\n",
       "      <td>27129.000000</td>\n",
       "      <td>10.000000</td>\n",
       "      <td>23.000000</td>\n",
       "      <td>1997.000000</td>\n",
       "      <td>17.000000</td>\n",
       "      <td>36.000000</td>\n",
       "      <td>47.000000</td>\n",
       "      <td>1.117647</td>\n",
       "    </tr>\n",
       "    <tr>\n",
       "      <th>max</th>\n",
       "      <td>35548.000000</td>\n",
       "      <td>12.000000</td>\n",
       "      <td>31.000000</td>\n",
       "      <td>2002.000000</td>\n",
       "      <td>24.000000</td>\n",
       "      <td>64.000000</td>\n",
       "      <td>280.000000</td>\n",
       "      <td>5.250000</td>\n",
       "    </tr>\n",
       "  </tbody>\n",
       "</table>\n",
       "</div>"
      ],
      "text/plain": [
       "          record_id         month           day          year       plot_id  hindfoot_length        weight         ratio\n",
       "count  30738.000000  30738.000000  30738.000000  30738.000000  30738.000000     30738.000000  30738.000000  30738.000000\n",
       "mean   18474.403117      6.549548     16.179387   1990.980057     11.222916        29.205413     41.766380      0.965566\n",
       "std    10077.240650      3.443694      8.157614      7.363040      6.797339         9.542914     35.658817      0.449165\n",
       "min       63.000000      1.000000      1.000000   1977.000000      1.000000         2.000000      4.000000      0.066667\n",
       "25%     9876.000000      4.000000     10.000000   1985.000000      5.000000        21.000000     20.000000      0.724138\n",
       "50%    18662.000000      7.000000     16.000000   1991.000000     11.000000        31.000000     36.000000      0.850000\n",
       "75%    27129.000000     10.000000     23.000000   1997.000000     17.000000        36.000000     47.000000      1.117647\n",
       "max    35548.000000     12.000000     31.000000   2002.000000     24.000000        64.000000    280.000000      5.250000"
      ]
     },
     "execution_count": 55,
     "metadata": {},
     "output_type": "execute_result"
    }
   ],
   "source": [
    "survey_df_pandas.describe()"
   ]
  },
  {
   "cell_type": "code",
   "execution_count": 57,
   "id": "560bc5d9-c793-4d36-a427-a63ca1a50e5f",
   "metadata": {},
   "outputs": [
    {
     "data": {
      "text/plain": [
       "41.76638037608172"
      ]
     },
     "execution_count": 57,
     "metadata": {},
     "output_type": "execute_result"
    }
   ],
   "source": [
    "survey_df_pandas.weight.mean()"
   ]
  },
  {
   "cell_type": "code",
   "execution_count": 58,
   "id": "e9ee58eb-b8a2-4ab6-bcd1-3a611a58c902",
   "metadata": {},
   "outputs": [
    {
     "data": {
      "text/plain": [
       "36.0"
      ]
     },
     "execution_count": 58,
     "metadata": {},
     "output_type": "execute_result"
    }
   ],
   "source": [
    "survey_df_pandas.weight.median()"
   ]
  },
  {
   "cell_type": "code",
   "execution_count": 59,
   "id": "6b6068d8-4713-4ca3-bf7e-e5140f238e20",
   "metadata": {},
   "outputs": [
    {
     "data": {
      "text/plain": [
       "36.0"
      ]
     },
     "execution_count": 59,
     "metadata": {},
     "output_type": "execute_result"
    }
   ],
   "source": [
    "survey_df_pandas.weight.quantile()"
   ]
  },
  {
   "cell_type": "code",
   "execution_count": 60,
   "id": "f86f29e6-3d49-47db-b6f9-62c504df3858",
   "metadata": {},
   "outputs": [
    {
     "data": {
      "text/plain": [
       "35.65881664686858"
      ]
     },
     "execution_count": 60,
     "metadata": {},
     "output_type": "execute_result"
    }
   ],
   "source": [
    "survey_df_pandas.weight.std()"
   ]
  },
  {
   "cell_type": "code",
   "execution_count": 61,
   "id": "628d6921-8eec-4ae7-8f2f-0766eb5b65ba",
   "metadata": {},
   "outputs": [
    {
     "data": {
      "text/plain": [
       "1271.5512046549916"
      ]
     },
     "execution_count": 61,
     "metadata": {},
     "output_type": "execute_result"
    }
   ],
   "source": [
    "survey_df_pandas.weight.var()"
   ]
  },
  {
   "cell_type": "code",
   "execution_count": 62,
   "id": "4ba9be52-c5a1-4c0d-b2f4-c0583f047ff8",
   "metadata": {},
   "outputs": [],
   "source": [
    "import math\n",
    "survey_df_pandas['weight'] = survey_df_pandas.weight.apply(lambda x : int(x) / 10 if not math.isnan(x) else 0)"
   ]
  },
  {
   "cell_type": "code",
   "execution_count": 63,
   "id": "a910e0cc-f66a-41fe-9a92-ed15055e6056",
   "metadata": {},
   "outputs": [
    {
     "name": "stderr",
     "output_type": "stream",
     "text": [
      "WARNING:root:'PYARROW_IGNORE_TIMEZONE' environment variable was not set. It is required to set this environment variable to '1' in both driver and executor sides if you use pyarrow>=2.0.0. pandas-on-Spark will set it for you but it does not work if there is a Spark context already launched.\n",
      "                                                                                \r"
     ]
    },
    {
     "data": {
      "text/plain": [
       "<AxesSubplot:ylabel='Density'>"
      ]
     },
     "execution_count": 63,
     "metadata": {},
     "output_type": "execute_result"
    },
    {
     "data": {
      "image/png": "[encoded data removed]",
      "text/plain": [
       "<Figure size 640x480 with 1 Axes>"
      ]
     },
     "metadata": {},
     "output_type": "display_data"
    }
   ],
   "source": [
    "survey_df_pandas.weight.plot.kde(backend=\"matplotlib\", bw_method=0.3)"
   ]
  }
 ],
 "metadata": {
  "kernelspec": {
   "display_name": "Python 3.9",
   "language": "python",
   "name": "python3"
  },
  "language_info": {
   "codemirror_mode": {
    "name": "ipython",
    "version": 3
   },
   "file_extension": ".py",
   "mimetype": "text/x-python",
   "name": "python",
   "nbconvert_exporter": "python",
   "pygments_lexer": "ipython3",
   "version": "3.9.6"
  }
 },
 "nbformat": 4,
 "nbformat_minor": 5
}
