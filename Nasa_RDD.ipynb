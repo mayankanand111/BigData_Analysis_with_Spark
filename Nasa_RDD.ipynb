{
 "cells": [
  {
   "cell_type": "code",
   "execution_count": 1,
   "id": "6a183891-7ba1-47ca-9b15-544c1e21754a",
   "metadata": {},
   "outputs": [],
   "source": [
    "import pyspark, datetime"
   ]
  },
  {
   "cell_type": "code",
   "execution_count": 2,
   "id": "66f71f9e-7468-450a-9b5b-fc820c9e1625",
   "metadata": {},
   "outputs": [],
   "source": [
    "sc = pyspark.SparkContext()"
   ]
  },
  {
   "cell_type": "code",
   "execution_count": 3,
   "id": "b452a032-3e39-48de-9759-cd16db2803f9",
   "metadata": {},
   "outputs": [],
   "source": [
    "nasa_logs = sc.textFile('NASA_access_log_Jul95')"
   ]
  },
  {
   "cell_type": "code",
   "execution_count": 4,
   "id": "2b5d9143-ee6f-4564-955a-6cbc68ccd221",
   "metadata": {},
   "outputs": [
    {
     "data": {
      "text/plain": [
       "['199.72.81.55 - - [01/Jul/1995:00:00:01 -0400] \"GET /history/apollo/ HTTP/1.0\" 200 6245',\n",
       " 'unicomp6.unicomp.net - - [01/Jul/1995:00:00:06 -0400] \"GET /shuttle/countdown/ HTTP/1.0\" 200 3985',\n",
       " '199.120.110.21 - - [01/Jul/1995:00:00:09 -0400] \"GET /shuttle/missions/sts-73/mission-sts-73.html HTTP/1.0\" 200 4085',\n",
       " 'burger.letters.com - - [01/Jul/1995:00:00:11 -0400] \"GET /shuttle/countdown/liftoff.html HTTP/1.0\" 304 0',\n",
       " '199.120.110.21 - - [01/Jul/1995:00:00:11 -0400] \"GET /shuttle/missions/sts-73/sts-73-patch-small.gif HTTP/1.0\" 200 4179']"
      ]
     },
     "execution_count": 4,
     "metadata": {},
     "output_type": "execute_result"
    }
   ],
   "source": [
    "nasa_logs.take(5)"
   ]
  },
  {
   "cell_type": "code",
   "execution_count": 5,
   "id": "6b49a307-843b-4d6c-ba82-bc620783c1cb",
   "metadata": {},
   "outputs": [
    {
     "data": {
      "text/plain": [
       "1891715"
      ]
     },
     "execution_count": 5,
     "metadata": {},
     "output_type": "execute_result"
    }
   ],
   "source": [
    "nasa_logs.count()"
   ]
  },
  {
   "cell_type": "code",
   "execution_count": 6,
   "id": "0c1b41e1-981b-443c-8314-ba58f20c41f3",
   "metadata": {},
   "outputs": [],
   "source": [
    "nasa_logs_split = nasa_logs.map(lambda x: x.split(\" \"))"
   ]
  },
  {
   "cell_type": "code",
   "execution_count": 7,
   "id": "49528cd4-d24e-49a5-a7b8-8d71de49cca3",
   "metadata": {},
   "outputs": [
    {
     "data": {
      "text/plain": [
       "[['199.72.81.55',\n",
       "  '-',\n",
       "  '-',\n",
       "  '[01/Jul/1995:00:00:01',\n",
       "  '-0400]',\n",
       "  '\"GET',\n",
       "  '/history/apollo/',\n",
       "  'HTTP/1.0\"',\n",
       "  '200',\n",
       "  '6245'],\n",
       " ['unicomp6.unicomp.net',\n",
       "  '-',\n",
       "  '-',\n",
       "  '[01/Jul/1995:00:00:06',\n",
       "  '-0400]',\n",
       "  '\"GET',\n",
       "  '/shuttle/countdown/',\n",
       "  'HTTP/1.0\"',\n",
       "  '200',\n",
       "  '3985'],\n",
       " ['199.120.110.21',\n",
       "  '-',\n",
       "  '-',\n",
       "  '[01/Jul/1995:00:00:09',\n",
       "  '-0400]',\n",
       "  '\"GET',\n",
       "  '/shuttle/missions/sts-73/mission-sts-73.html',\n",
       "  'HTTP/1.0\"',\n",
       "  '200',\n",
       "  '4085'],\n",
       " ['burger.letters.com',\n",
       "  '-',\n",
       "  '-',\n",
       "  '[01/Jul/1995:00:00:11',\n",
       "  '-0400]',\n",
       "  '\"GET',\n",
       "  '/shuttle/countdown/liftoff.html',\n",
       "  'HTTP/1.0\"',\n",
       "  '304',\n",
       "  '0'],\n",
       " ['199.120.110.21',\n",
       "  '-',\n",
       "  '-',\n",
       "  '[01/Jul/1995:00:00:11',\n",
       "  '-0400]',\n",
       "  '\"GET',\n",
       "  '/shuttle/missions/sts-73/sts-73-patch-small.gif',\n",
       "  'HTTP/1.0\"',\n",
       "  '200',\n",
       "  '4179']]"
      ]
     },
     "execution_count": 7,
     "metadata": {},
     "output_type": "execute_result"
    }
   ],
   "source": [
    "nasa_logs_split.take(5)"
   ]
  },
  {
   "cell_type": "code",
   "execution_count": 8,
   "id": "afdb1154-b328-441b-9e42-07cffd8e6adb",
   "metadata": {},
   "outputs": [],
   "source": [
    "nasa_filterd_logs = nasa_logs_split.filter(lambda x: len(x) == 10)"
   ]
  },
  {
   "cell_type": "code",
   "execution_count": 9,
   "id": "ec021d49-9c3e-4157-afe1-5b29e59bfdcb",
   "metadata": {},
   "outputs": [
    {
     "data": {
      "text/plain": [
       "[['199.72.81.55',\n",
       "  '-',\n",
       "  '-',\n",
       "  '[01/Jul/1995:00:00:01',\n",
       "  '-0400]',\n",
       "  '\"GET',\n",
       "  '/history/apollo/',\n",
       "  'HTTP/1.0\"',\n",
       "  '200',\n",
       "  '6245'],\n",
       " ['unicomp6.unicomp.net',\n",
       "  '-',\n",
       "  '-',\n",
       "  '[01/Jul/1995:00:00:06',\n",
       "  '-0400]',\n",
       "  '\"GET',\n",
       "  '/shuttle/countdown/',\n",
       "  'HTTP/1.0\"',\n",
       "  '200',\n",
       "  '3985'],\n",
       " ['199.120.110.21',\n",
       "  '-',\n",
       "  '-',\n",
       "  '[01/Jul/1995:00:00:09',\n",
       "  '-0400]',\n",
       "  '\"GET',\n",
       "  '/shuttle/missions/sts-73/mission-sts-73.html',\n",
       "  'HTTP/1.0\"',\n",
       "  '200',\n",
       "  '4085'],\n",
       " ['burger.letters.com',\n",
       "  '-',\n",
       "  '-',\n",
       "  '[01/Jul/1995:00:00:11',\n",
       "  '-0400]',\n",
       "  '\"GET',\n",
       "  '/shuttle/countdown/liftoff.html',\n",
       "  'HTTP/1.0\"',\n",
       "  '304',\n",
       "  '0'],\n",
       " ['199.120.110.21',\n",
       "  '-',\n",
       "  '-',\n",
       "  '[01/Jul/1995:00:00:11',\n",
       "  '-0400]',\n",
       "  '\"GET',\n",
       "  '/shuttle/missions/sts-73/sts-73-patch-small.gif',\n",
       "  'HTTP/1.0\"',\n",
       "  '200',\n",
       "  '4179']]"
      ]
     },
     "execution_count": 9,
     "metadata": {},
     "output_type": "execute_result"
    }
   ],
   "source": [
    "nasa_filterd_logs.take(5)"
   ]
  },
  {
   "cell_type": "code",
   "execution_count": 14,
   "id": "30ca4036-2b01-4636-9955-7cc91c2d5212",
   "metadata": {},
   "outputs": [],
   "source": [
    "replacement_dict = {\"[\":'',\"]\":'',\"\\\"\":''}\n",
    "\n",
    "nasa_logs_structured = nasa_logs.map(lambda line : line.split(\" \")).\\\n",
    "filter(lambda line : len(line)==10).\\\n",
    "map(lambda line : [element.translate(str.maketrans(replacement_dict)) \\\n",
    "                   for element in line])"
   ]
  },
  {
   "cell_type": "code",
   "execution_count": 15,
   "id": "e5f16b7f-7a8f-4680-876a-26972e699e22",
   "metadata": {},
   "outputs": [
    {
     "name": "stdout",
     "output_type": "stream",
     "text": [
      "['194.65.6.194 - - [01/Jul/1995:10:42:44 -0400] \"GET /shuttle/countdown/ HTTP/1.0\" 200 3985', 'slip236.its.bldrdoc.gov - - [01/Jul/1995:12:49:43 -0400] \"GET /images/launch-logo.gif HTTP/1.0\" 200 1713', 'drjo005a148.embratel.net.br - - [01/Jul/1995:17:27:08 -0400] \"GET /shuttle/missions/sts-71/images/KSC-95EC-0913.jpg HTTP/1.0\" 200 25439', 'dal158.computek.net - - [02/Jul/1995:01:25:50 -0400] \"GET /images/ksclogo-medium.gif HTTP/1.0\" 200 5866', 'drmemory.seanet.com - - [02/Jul/1995:13:34:30 -0400] \"GET /shuttle/technology/images/srb_mod_compare_6-small.gif HTTP/1.0\" 200 28219', 'poppy.hensa.ac.uk - - [02/Jul/1995:14:34:37 -0400] \"GET /history/apollo/images/footprint-small.gif HTTP/1.0\" 200 18149', 'portal.idacom.hp.com - - [02/Jul/1995:19:36:08 -0400] \"GET /history/apollo/apollo-13/sounds/a13_002.wav HTTP/1.0\" 200 127045', 'www-d3.proxy.aol.com - - [02/Jul/1995:21:45:48 -0400] \"GET /shuttle/countdown/countdown.html HTTP/1.0\" 200 3985', '202.66.32.125 - - [03/Jul/1995:00:01:25 -0400] \"GET /shuttle/missions/sts-71/images/images.html HTTP/1.0\" 200 7634', 'ppp-nyc-3-11.ios.com - - [03/Jul/1995:00:13:55 -0400] \"GET /shuttle/countdown/liftoff.html HTTP/1.0\" 200 4538', '155.218.56.241 - - [03/Jul/1995:07:10:58 -0400] \"GET /shuttle/missions/sts-69/mission-sts-69.html HTTP/1.0\" 200 4324', 'braona1.cns.hp.com - - [03/Jul/1995:09:01:30 -0400] \"GET /icons/blank.xbm HTTP/1.0\" 200 509', 'g-mclellan.biomed.gla.ac.uk - - [03/Jul/1995:11:05:55 -0400] \"GET /shuttle/missions/sts-71/sts-71-patch-small.gif HTTP/1.0\" 200 12054', 'benspc.oss.interact.net - - [03/Jul/1995:13:00:05 -0400] \"GET /history/apollo/apollo-13/apollo-13-patch-small.gif HTTP/1.0\" 200 12859', 'fredk.gsfc.nasa.gov - - [03/Jul/1995:14:01:45 -0400] \"GET /shuttle/countdown/ HTTP/1.0\" 200 3985', 'montezuma.arc.nasa.gov - - [03/Jul/1995:14:11:10 -0400] \"GET /shuttle/missions/sts-71/sts-71-patch-small.gif HTTP/1.0\" 200 12054', 'piweba3y.prodigy.com - - [03/Jul/1995:15:33:46 -0400] \"GET /images/MOSAIC-logosmall.gif HTTP/1.0\" 304 0', '196.7.2.34 - - [04/Jul/1995:08:44:39 -0400] \"GET /shuttle/countdown/count.gif HTTP/1.0\" 200 40310', 'sydneycs508-a7.cisco.com - - [04/Jul/1995:09:51:53 -0400] \"GET /shuttle/missions/sts-71/movies/sts-71-tcdt-crew-walkout.mpg HTTP/1.0\" 200 887988', 'cfd8.math.ucl.ac.uk - - [04/Jul/1995:15:15:28 -0400] \"GET /history/apollo/apollo-13/sounds/ HTTP/1.0\" 200 1157', 'ppp056-stdkn2.ulaval.ca - - [04/Jul/1995:16:08:24 -0400] \"GET /history/apollo/apollo-17/apollo-17-patch-small.gif HTTP/1.0\" 200 14977', 'sw24-166.iol.it - - [04/Jul/1995:17:35:42 -0400] \"GET /images/mlp-logo.gif HTTP/1.0\" 200 28426', 'piweba1y.prodigy.com - - [05/Jul/1995:00:09:34 -0400] \"GET /shuttle/missions/sts-71/mission-sts-71.html HTTP/1.0\" 200 12451', 'fub46.zedat.fu-berlin.de - - [05/Jul/1995:03:22:05 -0400] \"GET /images/whatsnew.gif HTTP/1.0\" 200 651', 'erigate.ericsson.se - - [05/Jul/1995:05:40:39 -0400] \"GET /images/MOSAIC-logosmall.gif HTTP/1.0\" 200 363', 'ix-tam1-06.ix.netcom.com - - [05/Jul/1995:09:16:13 -0400] \"GET /images/launch-logo.gif HTTP/1.0\" 200 1713', '128.159.140.34 - - [05/Jul/1995:11:04:43 -0400] \"GET /ksc.html HTTP/1.0\" 200 7074', '128.159.123.38 - - [05/Jul/1995:11:53:51 -0400] \"GET /images/WORLD-logosmall.gif HTTP/1.0\" 200 669', '159.54.1.46 - - [05/Jul/1995:14:21:14 -0400] \"GET /shuttle/countdown/ HTTP/1.0\" 200 3985', 'inetsvr.commscope.com - - [05/Jul/1995:14:46:11 -0400] \"GET /shuttle/missions/sts-5/mission-sts-5.html HTTP/1.0\" 200 4992', 'n1122791.ksc.nasa.gov - - [05/Jul/1995:15:16:16 -0400] \"GET /shuttle/missions/sts-50/sts-50-patch-small.gif HTTP/1.0\" 200 14180', 'fenris.srl.caltech.edu - - [05/Jul/1995:16:22:08 -0400] \"GET /history/apollo/apollo-17/apollo-17-patch-small.gif HTTP/1.0\" 200 14977', '199.173.252.1 - - [05/Jul/1995:19:00:49 -0400] \"GET /shuttle/countdown/count.gif HTTP/1.0\" 200 40310', 'powerpc4.mcl.ucsb.edu - - [05/Jul/1995:19:12:51 -0400] \"GET /images/NASA-logosmall.gif HTTP/1.0\" 200 786', 'pm1-13.magicnet.net - - [05/Jul/1995:21:28:18 -0400] \"GET /images/ksclogosmall.gif HTTP/1.0\" 304 0', '152.11.240.21 - - [05/Jul/1995:22:14:52 -0400] \"GET /shuttle/missions/sts-69/mission-sts-69.html HTTP/1.0\" 200 4327', 'dd11-062.compuserve.com - - [05/Jul/1995:23:46:01 -0400] \"GET /icons/menu.xbm HTTP/1.0\" 200 527', 'pool50.maple.net - - [06/Jul/1995:00:48:00 -0400] \"GET /images/shuttle-patch-small.gif HTTP/1.0\" 200 4179', '193.36.136.125 - - [06/Jul/1995:07:20:38 -0400] \"GET /shuttle/resources/orbiters/columbia-logo.gif HTTP/1.0\" 200 11417', '128.159.177.124 - - [06/Jul/1995:09:22:35 -0400] \"GET /images/WORLD-logosmall.gif HTTP/1.0\" 304 0', 'dept45.ac-sia.depaul.edu - - [06/Jul/1995:10:53:27 -0400] \"GET /software/winvn/bluemarb.gif HTTP/1.0\" 200 4441', '134.131.24.69 - - [06/Jul/1995:12:45:04 -0400] \"GET /shuttle/technology/images/srb_mod_compare_3-small.gif HTTP/1.0\" 200 55666', 'nntp1.reach.com - - [06/Jul/1995:16:20:19 -0400] \"GET /images/NASA-logosmall.gif HTTP/1.0\" 200 786', 'seitti.funet.fi - - [06/Jul/1995:16:46:05 -0400] \"GET /images/shuttle-patch-small.gif HTTP/1.0\" 200 4179', 'tshaw.jpl.nasa.gov - - [06/Jul/1995:17:52:38 -0400] \"GET /elv/elvhead3.gif HTTP/1.0\" 200 9925', 'adivar.lpl.arizona.edu - - [06/Jul/1995:20:05:50 -0400] \"GET /shuttle/resources/orbiters/challenger.html HTTP/1.0\" 200 8089', '140.198.71.58 - - [06/Jul/1995:23:08:56 -0400] \"GET /images/ksclogosmall.gif HTTP/1.0\" 200 3635', '147.154.1.157 - - [07/Jul/1995:01:42:17 -0400] \"GET /shuttle/resources/orbiters/orbiters.html HTTP/1.0\" 200 2178', 'ntigate.nt.com - - [07/Jul/1995:08:17:36 -0400] \"GET /shuttle/missions/sts-71/movies/sts-71-mir-dock.mpg HTTP/1.0\" 200 81920', '199.199.7.104 - - [07/Jul/1995:09:12:39 -0400] \"GET /icons/blank.xbm HTTP/1.0\" 304 0', 'ix-dc11-06.ix.netcom.com - - [07/Jul/1995:12:07:52 -0400] \"GET /shuttle/missions/sts-69/ HTTP/1.0\" 200 1725', 'gatekeeper.mtits.co.uk - - [07/Jul/1995:12:14:50 -0400] \"GET /shuttle/countdown/ HTTP/1.0\" 200 3998', 'webgate1.mot.com - - [07/Jul/1995:14:03:20 -0400] \"GET /shuttle/resources/orbiters/columbia.html HTTP/1.0\" 200 6922', 'morphine.iris.com - - [07/Jul/1995:14:21:59 -0400] \"GET /icons/image.xbm HTTP/1.0\" 200 509', '128.192.59.131 - - [07/Jul/1995:15:23:00 -0400] \"GET /images/ksclogo-medium.gif HTTP/1.0\" 304 0', '163.205.57.50 - - [07/Jul/1995:16:16:01 -0400] \"GET /cgi-bin/imagemap/countdown?102,177 HTTP/1.0\" 302 110', 'austin-2-8.i-link.net - - [07/Jul/1995:16:30:32 -0400] \"GET /software/winvn/bluemarb.gif HTTP/1.0\" 200 4441', '204.240.172.52 - - [07/Jul/1995:16:42:11 -0400] \"GET /history/gemini/gemini-v/gemini-v-patch-small.gif HTTP/1.0\" 200 19150', 'ad09-020.compuserve.com - - [08/Jul/1995:00:45:09 -0400] \"GET /facilities/mlp.html HTTP/1.0\" 200 2653', '137.159.210.245 - - [08/Jul/1995:01:14:40 -0400] \"GET /history/apollo/apollo-13/apollo-13.html HTTP/1.0\" 304 0', 'ix-dfw15-25.ix.netcom.com - - [09/Jul/1995:01:32:44 -0400] \"GET /images/USA-logosmall.gif HTTP/1.0\" 200 234', 'k1a.epcot.ibm.net - - [09/Jul/1995:13:30:34 -0400] \"GET /shuttle/missions/sts-71/movies/movies.html HTTP/1.0\" 200 3225', 'spcvxa.spc.edu - - [09/Jul/1995:14:42:43 -0400] \"GET /images/mercury-logo.gif HTTP/1.0\" 200 6588', 'ix-lex1-05.ix.netcom.com - - [09/Jul/1995:18:43:08 -0400] \"GET /images/ksclogo-medium.gif HTTP/1.0\" 200 5866', 'zskiraly.vip.best.com - - [09/Jul/1995:19:46:28 -0400] \"GET /shuttle/missions/sts-71/images/images.html HTTP/1.0\" 304 0', '163.205.156.61 - - [10/Jul/1995:14:45:39 -0400] \"GET /images/NASA-logosmall.gif HTTP/1.0\" 304 0', 'slip5.fs.cei.net - - [10/Jul/1995:17:18:41 -0400] \"GET /images/NASA-logosmall.gif HTTP/1.0\" 200 786', '194.65.16.69 - - [10/Jul/1995:17:24:52 -0400] \"GET /shuttle/technology/sts-newsref/stsref-toc.html HTTP/1.0\" 200 49152', 'wpbfl2-23.gate.net - - [10/Jul/1995:19:48:54 -0400] \"GET /images/KSC-logosmall.gif HTTP/1.0\" 200 1204', 'keithsch.traveller.com - - [10/Jul/1995:20:46:09 -0400] \"GET /icons/text.xbm HTTP/1.0\" 200 527', 'reddragon.ksc.nasa.gov - - [10/Jul/1995:21:12:05 -0400] \"GET /persons/nasa-cm/mike-sm.gif HTTP/1.0\" 304 0', 'www-b2.proxy.aol.com - - [10/Jul/1995:23:39:02 -0400] \"GET /shuttle/countdown/count70.gif HTTP/1.0\" 200 48511', 'faith.waikato.ac.nz - - [11/Jul/1995:01:18:46 -0400] \"GET /history/apollo/images/footprint-small.gif HTTP/1.0\" 200 18149', '192.239.92.53 - - [11/Jul/1995:05:36:56 -0400] \"GET /images/NASA-logosmall.gif HTTP/1.0\" 200 786', 'zbmp.igf.edu.pl - - [11/Jul/1995:05:43:11 -0400] \"GET /images/WORLD-logosmall.gif HTTP/1.0\" 200 669', 'sldar1p17.ozemail.com.au - - [11/Jul/1995:08:56:38 -0400] \"GET /images/NASA-logosmall.gif HTTP/1.0\" 304 0', 'bill.ksc.nasa.gov - - [11/Jul/1995:09:57:22 -0400] \"GET /shuttle/countdown/images/cdtclock.gif HTTP/1.0\" 304 0', 'webe.hooked.net - - [11/Jul/1995:20:24:24 -0400] \"GET /images/NASA-logosmall.gif HTTP/1.0\" 200 786', 'pm2170.harajuku.egg.or.jp - - [11/Jul/1995:23:48:47 -0400] \"GET /images/MOSAIC-logosmall.gif HTTP/1.0\" 200 363', 'afelicid.extern.ucsd.edu - - [12/Jul/1995:00:57:44 -0400] \"GET /history/apollo/images/footprint-small.gif HTTP/1.0\" 200 18149', '151.99.156.43 - - [12/Jul/1995:03:20:44 -0400] \"GET /shuttle/missions/sts-66/mission-sts-66.html HTTP/1.0\" 200 174016', '133.71.117.122 - - [12/Jul/1995:05:22:18 -0400] \"GET /shuttle/missions/sts-72/mission-sts-72.html HTTP/1.0\" 200 3788', 'bill.ksc.nasa.gov - - [12/Jul/1995:05:49:27 -0400] \"GET /images/NASA-logosmall.gif HTTP/1.0\" 304 0', '163.205.12.112 - - [12/Jul/1995:10:21:53 -0400] \"GET /images/shuttle-patch-logo.gif HTTP/1.0\" 200 891', '160.205.120.67 - - [12/Jul/1995:13:08:40 -0400] \"GET /elv/DELTA/euves.jpg HTTP/1.0\" 200 1521', 'jcaruso2.lerc.nasa.gov - - [12/Jul/1995:15:28:13 -0400] \"GET /history/apollo/apollo-13/apollo-13.html HTTP/1.0\" 200 18114', 'dd09-058.compuserve.com - - [12/Jul/1995:22:07:05 -0400] \"GET / HTTP/1.0\" 200 7062', 'www-c2.proxy.aol.com - - [12/Jul/1995:23:13:06 -0400] \"GET /cgi-bin/imagemap/countdown70?287,284 HTTP/1.0\" 302 85', 'settsu.edu.tut.ac.jp - - [13/Jul/1995:05:29:37 -0400] \"GET /images/ksclogo-medium.gif HTTP/1.0\" 200 5866', '134.175.2.6 - - [13/Jul/1995:09:37:11 -0400] \"GET /htbin/cdt_clock.pl HTTP/1.0\" 200 752', 'ojmac.larc.nasa.gov - - [13/Jul/1995:10:40:42 -0400] \"GET /images/ksclogo-medium.gif HTTP/1.0\" 200 5866', 'pcdp08.holyname.org - - [13/Jul/1995:11:42:45 -0400] \"GET /htbin/cdt_main.pl HTTP/1.0\" 200 3537', 'wks148.azstarnet.com - - [13/Jul/1995:13:53:05 -0400] \"GET /cgi-bin/imagemap/countdown70?58,188 HTTP/1.0\" 302 96', 'arden.kapsch.co.at - - [13/Jul/1995:14:06:28 -0400] \"GET /shuttle/missions/rollbacks.html HTTP/1.0\" 200 4208', 'commx3.msfc.nasa.gov - - [13/Jul/1995:15:22:26 -0400] \"GET /shuttle/missions/sts-70/movies/sts-70-launch-press.mpg HTTP/1.0\" 200 1082916', 'jroberts.clark.net - - [13/Jul/1995:18:06:09 -0400] \"GET /htbin/cdt_main.pl HTTP/1.0\" 200 3334', 'igate.uswest.com - - [13/Jul/1995:19:15:50 -0400] \"GET /history/apollo/apollo-1/apollo-1-patch-small.gif HTTP/1.0\" 200 16979', 'quasar.beaches.net - - [13/Jul/1995:23:58:16 -0400] \"GET /shuttle/missions/sts-73/mission-sts-73.html HTTP/1.0\" 200 4083', 'pc85.et.byu.edu - - [14/Jul/1995:01:06:56 -0400] \"GET /shuttle/missions/sts-70/mission-sts-70.html HTTP/1.0\" 200 14363', 'in23.inetnebr.com - - [14/Jul/1995:09:46:58 -0400] \"GET /shuttle/missions/sts-70/images/KSC-95EC-0768.jpg HTTP/1.0\" 200 76048', 'ciruela.we.lc.ehu.es - - [14/Jul/1995:10:45:07 -0400] \"GET / HTTP/1.0\" 200 7071', 'gw3.att.com - - [14/Jul/1995:11:06:26 -0400] \"GET /images/WORLD-logosmall.gif HTTP/1.0\" 200 669', '129.238.16.185 - - [14/Jul/1995:11:14:47 -0400] \"GET /images/KSC-logosmall.gif HTTP/1.0\" 200 1204', 'cdsuk46.cadence.com - - [14/Jul/1995:14:44:15 -0400] \"GET /shuttle/technology/images/srb_16-small.gif HTTP/1.0\" 200 42732', 'gumbo-slip-d1.no.neosoft.com - - [14/Jul/1995:14:47:20 -0400] \"GET /images/KSC-logosmall.gif HTTP/1.0\" 200 1204', '198.133.29.18 - - [14/Jul/1995:14:47:44 -0400] \"GET /shuttle/missions/sts-70/mission-sts-70.html HTTP/1.0\" 200 14489', '128.159.123.29 - - [14/Jul/1995:15:40:33 -0400] \"GET /shuttle/missions/sts-70/images/DSC-95EC-0001.jpg HTTP/1.0\" 200 513911', 'ppp_slp6.equinox.com - - [14/Jul/1995:16:13:50 -0400] \"GET /shuttle/missions/sts-71/images/images.html HTTP/1.0\" 200 8529', '128.217.62.85 - - [14/Jul/1995:16:20:23 -0400] \"GET /shuttle/countdown/count70.gif HTTP/1.0\" 200 46573', '128.171.4.18 - - [14/Jul/1995:22:37:55 -0400] \"GET /persons/nasa-cm/jmd.gif HTTP/1.0\" 200 17866', '128.249.251.142 - - [14/Jul/1995:22:43:02 -0400] \"GET /images/NASA-logosmall.gif HTTP/1.0\" 200 786', 'aitra.uio.no - - [15/Jul/1995:07:52:01 -0400] \"GET /shuttle/missions/sts-70/images/DSC-95EC-0001.jpg HTTP/1.0\" 200 513911', 'ip18.techline.com - - [15/Jul/1995:08:49:39 -0400] \"GET /images/counthome.gif HTTP/1.0\" 200 49152', 'sw24-247.iol.it - - [15/Jul/1995:11:52:29 -0400] \"GET /images/MOSAIC-logosmall.gif HTTP/1.0\" 200 363', 'line053.nwm.mindlink.net - - [15/Jul/1995:22:19:32 -0400] \"GET /shuttle/technology/images/srb_mod_compare_1-small.gif HTTP/1.0\" 200 36902', 'ix-nor-va2-04.ix.netcom.com - - [16/Jul/1995:09:33:54 -0400] \"GET /history/apollo/apollo-14/apollo-14.html HTTP/1.0\" 200 2522', 'intermin.fi - - [16/Jul/1995:14:36:10 -0400] \"GET /shuttle/missions/51-l/51-l-info.html HTTP/1.0\" 200 1387', 'piweba1y.prodigy.com - - [16/Jul/1995:20:19:18 -0400] \"GET /history/apollo/images/apollo-logo1.gif HTTP/1.0\" 200 1173', 'cu-dialup-0806.cit.cornell.edu - - [17/Jul/1995:09:35:55 -0400] \"GET /images/KSC-logosmall.gif HTTP/1.0\" 304 0', 'www-c3.proxy.aol.com - - [17/Jul/1995:20:16:15 -0400] \"GET /images/kscmap-tiny.gif HTTP/1.0\" 200 2537', 'heinz.e-technik.uni-dortmund.de - - [18/Jul/1995:10:19:50 -0400] \"GET /images/WORLD-logosmall.gif HTTP/1.0\" 200 669', '128.159.122.38 - - [18/Jul/1995:11:19:05 -0400] \"GET /finance/webserch.gif HTTP/1.0\" 200 2682', '131.107.2.153 - - [18/Jul/1995:19:40:02 -0400] \"GET /images/USA-logosmall.gif HTTP/1.0\" 200 234', 'dd08-005.compuserve.com - - [19/Jul/1995:08:17:37 -0400] \"GET /images/WORLD-logosmall.gif HTTP/1.0\" 200 669', 'graniela.vsl.ist.ucf.edu - - [19/Jul/1995:11:38:25 -0400] \"GET /news/nasa.nasamail.p/79 HTTP/1.0\" 200 5089', 'ecom3.ecn.bgu.edu - - [19/Jul/1995:11:55:40 -0400] \"GET /shuttle/missions/sts-73/mission-sts-73.html HTTP/1.0\" 200 4101', 'ftmfl-5.gate.net - - [19/Jul/1995:11:59:21 -0400] \"GET /images/NASA-logosmall.gif HTTP/1.0\" 200 786', 'mudd3.library.yale.edu - - [19/Jul/1995:13:11:12 -0400] \"GET /shuttle/missions/sts-78/sts-78-patch-small.gif HTTP/1.0\" 200 4179', 'cy15.minn.net - - [19/Jul/1995:15:24:32 -0400] \"GET /icons/blank.xbm HTTP/1.0\" 304 0', 'www-c4.proxy.aol.com - - [20/Jul/1995:00:06:41 -0400] \"GET /icons/blank.xbm HTTP/1.0\" 200 509', 'topex.upc.es - - [20/Jul/1995:12:32:16 -0400] \"GET /history/apollo/images/apollo-logo1.gif HTTP/1.0\" 200 1173', '12-dynamic-c.rotterdam.luna.net - - [20/Jul/1995:17:10:22 -0400] \"GET /images/ksclogo-medium.gif HTTP/1.0\" 200 5866', 'pc57.shownet.bbnplanet.net - - [20/Jul/1995:17:20:55 -0400] \"GET /shuttle/missions/sts-71/sts-71-press-kit.txt HTTP/1.0\" 200 78588', 'saquad004.ttd.sandia.gov - - [20/Jul/1995:17:21:43 -0400] \"GET /history/apollo/apollo-8/movies/ HTTP/1.0\" 200 378', 'dialup284.bloomington.mci.net - - [20/Jul/1995:17:55:36 -0400] \"GET /shuttle/missions/sts-65/mission-sts-65.html HTTP/1.0\" 200 65536', '198.70.185.203 - - [20/Jul/1995:20:24:34 -0400] \"GET /shuttle/countdown/ HTTP/1.0\" 200 4324', '198.133.29.18 - - [21/Jul/1995:09:34:01 -0400] \"GET /elv/SCOUT/sampexs.jpg HTTP/1.0\" 200 2322', 'tvops.cac.washington.edu - - [21/Jul/1995:11:08:16 -0400] \"GET /history/apollo/images/apollo-logo1.gif HTTP/1.0\" 200 1173', '128.159.122.64 - - [21/Jul/1995:11:42:16 -0400] \"GET /PTS/thin_strip2.gif HTTP/1.0\" 404 -', '204.95.129.59 - - [21/Jul/1995:14:37:07 -0400] \"GET /shuttle/countdown/video/livevideo.jpeg HTTP/1.0\" 200 43186', 'lyons.seanet.com - - [21/Jul/1995:14:42:48 -0400] \"GET /shuttle/countdown/ HTTP/1.0\" 200 4324', '160.205.102.8 - - [21/Jul/1995:17:51:42 -0400] \"GET /icons/text.xbm HTTP/1.0\" 200 527', '128.97.6.53 - - [21/Jul/1995:23:11:29 -0400] \"GET /images/launch-logo.gif HTTP/1.0\" 200 1713', 'orange.ge.com - - [22/Jul/1995:12:25:47 -0400] \"GET /shuttle/missions/sts-70/sts-70-patch-small.gif HTTP/1.0\" 200 5978', 'ix-dfw12-20.ix.netcom.com - - [22/Jul/1995:14:23:21 -0400] \"GET /images/launch-logo.gif HTTP/1.0\" 200 1713', 'smtp.inet.fi - - [22/Jul/1995:14:37:10 -0400] \"GET /shuttle/countdown/video/livevideo2.gif HTTP/1.0\" 200 71319', 'piweba4y.prodigy.com - - [22/Jul/1995:14:46:43 -0400] \"GET /shuttle/missions/sts-71/sts-71-patch-small.gif HTTP/1.0\" 200 12054', 'tty15-09.swipnet.se - - [23/Jul/1995:10:05:40 -0400] \"GET /cgi-bin/imagemap/countdown70?67,222 HTTP/1.0\" 302 110', 'xterm9.labs.gmu.edu - - [23/Jul/1995:11:43:27 -0400] \"GET /icons/text.xbm HTTP/1.0\" 200 527', '137.79.1.213 - - [23/Jul/1995:12:59:32 -0400] \"GET /images/KSC-logosmall.gif HTTP/1.0\" 200 1204', 'berlin.snafu.de - - [23/Jul/1995:14:40:27 -0400] \"GET /shuttle/missions/sts-71/sts-71-patch-small.gif HTTP/1.0\" 200 12054', 'ix-dfw12-18.ix.netcom.com - - [23/Jul/1995:16:11:33 -0400] \"GET /shuttle/missions/missions.html HTTP/1.0\" 200 8678', 'www-c6.proxy.aol.com - - [23/Jul/1995:19:02:58 -0400] \"GET /history/apollo/images/apollo-logo1.gif HTTP/1.0\" 200 1173', 'www-c5.proxy.aol.com - - [23/Jul/1995:20:05:13 -0400] \"GET /icons/menu.xbm HTTP/1.0\" 200 527', 'ad04-003.compuserve.com - - [24/Jul/1995:05:05:37 -0400] \"GET /persons/astronauts/a-to-d/ChiaoL.txt HTTP/1.0\" 200 2570', 'dd09-014.compuserve.com - - [24/Jul/1995:05:58:54 -0400] \"GET /shuttle/resources/orbiters/endeavour-logo.gif HTTP/1.0\" 200 5052', '163.206.89.4 - - [24/Jul/1995:10:25:36 -0400] \"GET /history/apollo/images/apollo-logo1.gif HTTP/1.0\" 200 1173', 'reo.icf.esygvl.com - - [24/Jul/1995:10:59:27 -0400] \"GET /facilities/lc39a.html HTTP/1.0\" 200 7008', 'mopsitnik.nld.provo.novell.com - - [24/Jul/1995:14:03:38 -0400] \"GET /history/mercury/mercury.html HTTP/1.0\" 200 1871', '170.142.2.132 - - [24/Jul/1995:16:26:18 -0400] \"GET /history/apollo/apollo-spacecraft.txt HTTP/1.0\" 200 2261', 'gigem.plk.af.mil - - [24/Jul/1995:17:57:47 -0400] \"GET /images/WORLD-logosmall.gif HTTP/1.0\" 200 669', 'datw235.seinf.abb.se - - [25/Jul/1995:06:55:58 -0400] \"GET /shuttle/missions/sts-66/mission-sts-66.html HTTP/1.0\" 200 174452', 'ois.com - - [25/Jul/1995:11:17:30 -0400] \"GET /shuttle/missions/sts-62/sts-62-patch-small.gif HTTP/1.0\" 200 14385', 'mcgillis.electech.polymtl.ca - - [25/Jul/1995:13:19:06 -0400] \"GET /shuttle/resources/orbiters/orbiters-logo.gif HTTP/1.0\" 200 1932', '129.253.161.244 - - [25/Jul/1995:13:57:22 -0400] \"GET /images/flight-deck.gif HTTP/1.0\" 200 401408', 'wc33.writer.yorku.ca - - [25/Jul/1995:14:40:01 -0400] \"GET /history/gemini/gemini-spacecraft.txt HTTP/1.0\" 200 651', '192.190.49.31 - - [25/Jul/1995:16:04:31 -0400] \"GET /history/apollo/apollo.html HTTP/1.0\" 200 3260', 'vyger418.nando.net - - [25/Jul/1995:23:42:59 -0400] \"GET /facts/about_ksc.html HTTP/1.0\" 200 3977', 'sisl100.sisl.co.uk - - [26/Jul/1995:10:57:19 -0400] \"GET /icons/menu.xbm HTTP/1.0\" 200 527', 'aligator.quantum.de - - [26/Jul/1995:17:15:18 -0400] \"GET /shuttle/countdown/ HTTP/1.0\" 200 4324', 'maz3.maz.net - - [26/Jul/1995:17:43:23 -0400] \"GET /images/lc39a-logo.gif HTTP/1.0\" 200 13116', 'tia1.eskimo.com - - [26/Jul/1995:20:11:06 -0400] \"GET /shuttle/missions/sts-69/mission-sts-69.html HTTP/1.0\" 200 5862', '134.174.160.176 - - [26/Jul/1995:21:03:10 -0400] \"GET /history/apollo/images/footprint-logo.gif HTTP/1.0\" 200 4209', '163.205.180.17 - - [27/Jul/1995:09:52:06 -0400] \"GET /history/apollo/images/apollo-logo1.gif HTTP/1.0\" 200 1173', 'pool03-21.innet.be - - [27/Jul/1995:11:21:25 -0400] \"GET /images/ksclogosmall.gif HTTP/1.0\" 200 3635', '155.31.11.135 - - [27/Jul/1995:13:09:37 -0400] \"GET /ksc.html HTTP/1.0\" 200 7185', 'virgil.helios.nd.edu - - [27/Jul/1995:14:05:22 -0400] \"GET /history/gemini/movies/gemini-launch.mpg HTTP/1.0\" 200 104987', '128.180.36.2 - - [27/Jul/1995:14:56:33 -0400] \"GET /icons/image.xbm HTTP/1.0\" 200 509', 'pc3333.soc.iastate.edu - - [27/Jul/1995:18:59:48 -0400] \"GET /shuttle/countdown/count70.gif HTTP/1.0\" 200 46573', 'queen.torfree.net - - [27/Jul/1995:21:08:58 -0400] \"GET /history/apollo/a-001/a-001-info.html HTTP/1.0\" 200 1372', '199.172.108.21 - - [27/Jul/1995:22:23:23 -0400] \"GET /history/apollo/apollo.html HTTP/1.0\" 200 3260', 'gepool.midtown.net - - [28/Jul/1995:01:25:08 -0400] \"GET /images/landing-small.gif HTTP/1.0\" 200 16966', 'dialup6.afn.org - - [28/Jul/1995:09:07:30 -0400] \"GET /cgi-bin/imagemap/countdown70?62,228 HTTP/1.0\" 302 110', 'news.ti.com - - [28/Jul/1995:12:10:31 -0400] \"GET /shuttle/missions/sts-69/sts-69-patch-small.gif HTTP/1.0\" 200 8083']\n"
     ]
    }
   ],
   "source": [
    "local_sample = \\\n",
    "nasa_logs.sample(withReplacement=False,fraction=0.0001).\\\n",
    "collect()\n",
    "\n",
    "print(local_sample)"
   ]
  },
  {
   "cell_type": "code",
   "execution_count": 16,
   "id": "99232b5f-8080-4f8f-9307-24151d2d963a",
   "metadata": {},
   "outputs": [
    {
     "data": {
      "text/plain": [
       "['199.72.81.55,-,-,01/Jul/1995:00:00:01,-0400,GET,/history/apollo/,HTTP/1.0,200,6245',\n",
       " 'unicomp6.unicomp.net,-,-,01/Jul/1995:00:00:06,-0400,GET,/shuttle/countdown/,HTTP/1.0,200,3985',\n",
       " '199.120.110.21,-,-,01/Jul/1995:00:00:09,-0400,GET,/shuttle/missions/sts-73/mission-sts-73.html,HTTP/1.0,200,4085',\n",
       " 'burger.letters.com,-,-,01/Jul/1995:00:00:11,-0400,GET,/shuttle/countdown/liftoff.html,HTTP/1.0,304,0',\n",
       " '199.120.110.21,-,-,01/Jul/1995:00:00:11,-0400,GET,/shuttle/missions/sts-73/sts-73-patch-small.gif,HTTP/1.0,200,4179']"
      ]
     },
     "execution_count": 16,
     "metadata": {},
     "output_type": "execute_result"
    }
   ],
   "source": [
    "def CSVfy(rdd_element):\n",
    "  return ','.join(str(element) for element in rdd_element)\n",
    "\n",
    "nasa_logs_structured.map(CSVfy).take(5)"
   ]
  },
  {
   "cell_type": "code",
   "execution_count": 17,
   "id": "5b51a1b5-c785-4fdc-a891-da3548fa8f6f",
   "metadata": {},
   "outputs": [],
   "source": [
    "csv_to_be_saved = nasa_logs_structured.map(CSVfy)\n",
    "\n",
    "csv_to_be_saved.saveAsTextFile('nasa_logs_new3.csv.gz')"
   ]
  },
  {
   "cell_type": "code",
   "execution_count": 18,
   "id": "793d8e99-9b78-44a4-93e5-e815515923c9",
   "metadata": {},
   "outputs": [
    {
     "data": {
      "text/plain": [
       "[('199.72.81.55', 1),\n",
       " ('unicomp6.unicomp.net', 1),\n",
       " ('199.120.110.21', 1),\n",
       " ('burger.letters.com', 1),\n",
       " ('199.120.110.21', 1)]"
      ]
     },
     "execution_count": 18,
     "metadata": {},
     "output_type": "execute_result"
    }
   ],
   "source": [
    "nasa_logs_structured.map(lambda line : (line[0],1) ).take(5)"
   ]
  },
  {
   "cell_type": "code",
   "execution_count": 19,
   "id": "ec1d7c65-9fd1-4e45-a9a4-c984f6d9803c",
   "metadata": {},
   "outputs": [
    {
     "data": {
      "text/plain": [
       "[(17572, 'piweba3y.prodigy.com'),\n",
       " (11591, 'piweba4y.prodigy.com'),\n",
       " (9868, 'piweba1y.prodigy.com'),\n",
       " (7852, 'alyssa.prodigy.com'),\n",
       " (7573, 'siltb10.orl.mmc.com')]"
      ]
     },
     "execution_count": 19,
     "metadata": {},
     "output_type": "execute_result"
    }
   ],
   "source": [
    "nasa_logs_structured.map(lambda line : (line[0],1) ).\\\n",
    "reduceByKey(lambda a,b : a+b).\\\n",
    "map(lambda kv_pair : (kv_pair[1],kv_pair[0])).\\\n",
    "sortByKey(ascending=False).take(5)"
   ]
  },
  {
   "cell_type": "markdown",
   "id": "8af4ff8d-893e-4ac9-9b75-6a1dc2231f5b",
   "metadata": {},
   "source": [
    "# Excercise 1"
   ]
  },
  {
   "cell_type": "code",
   "execution_count": 20,
   "id": "de22b2d0-7ead-4c73-b9ab-3d6e8b1f0a54",
   "metadata": {},
   "outputs": [
    {
     "data": {
      "text/plain": [
       "PythonRDD[24] at RDD at PythonRDD.scala:53"
      ]
     },
     "execution_count": 20,
     "metadata": {},
     "output_type": "execute_result"
    }
   ],
   "source": [
    "nasa_logs_structured.persist()"
   ]
  },
  {
   "cell_type": "code",
   "execution_count": 21,
   "id": "75754610-40ba-454e-a4b6-45fa43f78e3d",
   "metadata": {},
   "outputs": [
    {
     "data": {
      "text/plain": [
       "True"
      ]
     },
     "execution_count": 21,
     "metadata": {},
     "output_type": "execute_result"
    }
   ],
   "source": [
    "nasa_logs_structured.is_cached"
   ]
  },
  {
   "cell_type": "code",
   "execution_count": 22,
   "id": "3e674766-5780-4a74-9ec1-1aa1b98d2841",
   "metadata": {},
   "outputs": [],
   "source": [
    "import datetime"
   ]
  },
  {
   "cell_type": "code",
   "execution_count": 23,
   "id": "9868e83d-2698-4d14-94f4-88c6148485e9",
   "metadata": {},
   "outputs": [],
   "source": [
    "def parse_timestamp(timestamp_str):\n",
    "    return datetime.datetime.strptime(timestamp_str, '%d/%b/%Y:%H:%M:%S')"
   ]
  },
  {
   "cell_type": "code",
   "execution_count": 24,
   "id": "5f14f529-9932-4365-99fa-157387f748d7",
   "metadata": {},
   "outputs": [],
   "source": [
    "data_served_by_timestamp = nasa_logs_structured.map(lambda line: (parse_timestamp(line[3]), int(line[9].replace('-', '0')))) \\\n",
    "                                                .reduceByKey(lambda a, b: a + b)"
   ]
  },
  {
   "cell_type": "code",
   "execution_count": 25,
   "id": "a032160e-4c23-4e40-83e5-c8d199d45708",
   "metadata": {},
   "outputs": [],
   "source": [
    "highest_data_served_entry = data_served_by_timestamp.map(lambda kv_pair: (kv_pair[1], kv_pair[0])) \\\n",
    "                                                    .sortByKey(ascending=False) \\\n",
    "                                                    .take(1)"
   ]
  },
  {
   "cell_type": "code",
   "execution_count": 26,
   "id": "bfb98206-27bd-47db-b70f-ae39b3e4d046",
   "metadata": {},
   "outputs": [
    {
     "data": {
      "text/plain": [
       "[(6875029, datetime.datetime(1995, 7, 7, 14, 3, 32))]"
      ]
     },
     "execution_count": 26,
     "metadata": {},
     "output_type": "execute_result"
    }
   ],
   "source": [
    "highest_data_served_entry"
   ]
  },
  {
   "cell_type": "markdown",
   "id": "797b077b-1b7c-4278-91c5-855b2122e02c",
   "metadata": {},
   "source": [
    "# Excercise 2"
   ]
  },
  {
   "cell_type": "code",
   "execution_count": 27,
   "id": "a98bd51c-5541-423e-805b-92cf4d1332a7",
   "metadata": {},
   "outputs": [
    {
     "data": {
      "text/plain": [
       "[(49583, '/images/NASA-logosmall.gif'),\n",
       " (49049, '/images/KSC-logosmall.gif'),\n",
       " (29729, '/images/MOSAIC-logosmall.gif'),\n",
       " (29490, '/images/USA-logosmall.gif'),\n",
       " (29244, '/images/WORLD-logosmall.gif')]"
      ]
     },
     "execution_count": 27,
     "metadata": {},
     "output_type": "execute_result"
    }
   ],
   "source": [
    "nasa_logs_structured.\\\n",
    "map(lambda line : (line[0],line[6])).\\\n",
    "distinct().map(lambda line : (line[1],1)).\\\n",
    "reduceByKey(lambda a,b : a+b).\\\n",
    "map(lambda kv_pair : (kv_pair[1],kv_pair[0])).\\\n",
    "sortByKey(ascending=False).take(5)"
   ]
  },
  {
   "cell_type": "markdown",
   "id": "741a24ef-c620-467c-b02d-c301dbe929f0",
   "metadata": {},
   "source": [
    "# Excercise 3"
   ]
  },
  {
   "cell_type": "code",
   "execution_count": 28,
   "id": "d0738448-4ad6-4349-85e5-c8c5f2476380",
   "metadata": {},
   "outputs": [],
   "source": [
    "words = nasa_logs_structured.\\\n",
    "map(lambda line : line[6].\\\n",
    "    replace('/',' ').\\\n",
    "    replace('.',' '))"
   ]
  },
  {
   "cell_type": "code",
   "execution_count": 29,
   "id": "1241497f-6cb9-4ed5-9948-64cdd5a0cf42",
   "metadata": {},
   "outputs": [
    {
     "data": {
      "text/plain": [
       "[('', 2024051),\n",
       " ('countdown', 184637),\n",
       " ('mission-sts-73', 2327),\n",
       " ('ksclogo-medium', 58615),\n",
       " ('facts', 8619)]"
      ]
     },
     "execution_count": 29,
     "metadata": {},
     "output_type": "execute_result"
    }
   ],
   "source": [
    "words.\\\n",
    "flatMap(lambda line: line.split(\" \")).\\\n",
    "map(lambda word : (word, 1)).\\\n",
    "reduceByKey(lambda a,b : a+b).\\\n",
    "take(5)"
   ]
  }
 ],
 "metadata": {
  "kernelspec": {
   "display_name": "Python 3.8",
   "language": "python",
   "name": "python3"
  },
  "language_info": {
   "codemirror_mode": {
    "name": "ipython",
    "version": 3
   },
   "file_extension": ".py",
   "mimetype": "text/x-python",
   "name": "python",
   "nbconvert_exporter": "python",
   "pygments_lexer": "ipython3",
   "version": "3.8.2"
  }
 },
 "nbformat": 4,
 "nbformat_minor": 5
}
