{
 "cells": [
  {
   "cell_type": "code",
   "execution_count": 1,
   "id": "e84f0bd4-061d-4faf-b7df-477d74ed5de0",
   "metadata": {},
   "outputs": [],
   "source": [
    "import pyspark"
   ]
  },
  {
   "cell_type": "code",
   "execution_count": 2,
   "id": "a4ff89a0-2071-4344-8be4-8cad5d538dec",
   "metadata": {},
   "outputs": [],
   "source": [
    "sc = pyspark.SparkContext()"
   ]
  },
  {
   "cell_type": "code",
   "execution_count": 3,
   "id": "68a4ad17-b85e-44e9-9599-c90261d79b02",
   "metadata": {},
   "outputs": [],
   "source": [
    "from pyspark.sql import SQLContext"
   ]
  },
  {
   "cell_type": "code",
   "execution_count": 4,
   "id": "2481bef5-f6b2-4845-8594-f47edfde4486",
   "metadata": {},
   "outputs": [],
   "source": [
    "spark = SQLContext(sc)"
   ]
  },
  {
   "cell_type": "code",
   "execution_count": 6,
   "id": "6fea7b64-e8da-4045-956b-d173d24d9269",
   "metadata": {},
   "outputs": [],
   "source": [
    "surveys_df = spark.read.options(header='true').csv('surveys.csv')"
   ]
  },
  {
   "cell_type": "code",
   "execution_count": 7,
   "id": "e208f783-2363-4295-821f-594c5581034d",
   "metadata": {},
   "outputs": [
    {
     "data": {
      "text/plain": [
       "[Row(record_id='1', month='7', day='16', year='1977', plot_id='2', species_id='NL', sex='M', hindfoot_length='32', weight=None),\n",
       " Row(record_id='2', month='7', day='16', year='1977', plot_id='3', species_id='NL', sex='M', hindfoot_length='33', weight=None),\n",
       " Row(record_id='3', month='7', day='16', year='1977', plot_id='2', species_id='DM', sex='F', hindfoot_length='37', weight=None),\n",
       " Row(record_id='4', month='7', day='16', year='1977', plot_id='7', species_id='DM', sex='M', hindfoot_length='36', weight=None),\n",
       " Row(record_id='5', month='7', day='16', year='1977', plot_id='3', species_id='DM', sex='M', hindfoot_length='35', weight=None)]"
      ]
     },
     "execution_count": 7,
     "metadata": {},
     "output_type": "execute_result"
    }
   ],
   "source": [
    "surveys_df.head(5)"
   ]
  },
  {
   "cell_type": "code",
   "execution_count": 8,
   "id": "0ad27e0e-24fa-431c-9536-2fda46673291",
   "metadata": {},
   "outputs": [
    {
     "data": {
      "text/html": [
       "<div>\n",
       "<style scoped>\n",
       "    .dataframe tbody tr th:only-of-type {\n",
       "        vertical-align: middle;\n",
       "    }\n",
       "\n",
       "    .dataframe tbody tr th {\n",
       "        vertical-align: top;\n",
       "    }\n",
       "\n",
       "    .dataframe thead th {\n",
       "        text-align: right;\n",
       "    }\n",
       "</style>\n",
       "<table border=\"1\" class=\"dataframe\">\n",
       "  <thead>\n",
       "    <tr style=\"text-align: right;\">\n",
       "      <th></th>\n",
       "      <th>record_id</th>\n",
       "      <th>month</th>\n",
       "      <th>day</th>\n",
       "      <th>year</th>\n",
       "      <th>plot_id</th>\n",
       "      <th>species_id</th>\n",
       "      <th>sex</th>\n",
       "      <th>hindfoot_length</th>\n",
       "      <th>weight</th>\n",
       "    </tr>\n",
       "  </thead>\n",
       "  <tbody>\n",
       "    <tr>\n",
       "      <th>0</th>\n",
       "      <td>1</td>\n",
       "      <td>7</td>\n",
       "      <td>16</td>\n",
       "      <td>1977</td>\n",
       "      <td>2</td>\n",
       "      <td>NL</td>\n",
       "      <td>M</td>\n",
       "      <td>32</td>\n",
       "      <td>None</td>\n",
       "    </tr>\n",
       "    <tr>\n",
       "      <th>1</th>\n",
       "      <td>2</td>\n",
       "      <td>7</td>\n",
       "      <td>16</td>\n",
       "      <td>1977</td>\n",
       "      <td>3</td>\n",
       "      <td>NL</td>\n",
       "      <td>M</td>\n",
       "      <td>33</td>\n",
       "      <td>None</td>\n",
       "    </tr>\n",
       "    <tr>\n",
       "      <th>2</th>\n",
       "      <td>3</td>\n",
       "      <td>7</td>\n",
       "      <td>16</td>\n",
       "      <td>1977</td>\n",
       "      <td>2</td>\n",
       "      <td>DM</td>\n",
       "      <td>F</td>\n",
       "      <td>37</td>\n",
       "      <td>None</td>\n",
       "    </tr>\n",
       "    <tr>\n",
       "      <th>3</th>\n",
       "      <td>4</td>\n",
       "      <td>7</td>\n",
       "      <td>16</td>\n",
       "      <td>1977</td>\n",
       "      <td>7</td>\n",
       "      <td>DM</td>\n",
       "      <td>M</td>\n",
       "      <td>36</td>\n",
       "      <td>None</td>\n",
       "    </tr>\n",
       "    <tr>\n",
       "      <th>4</th>\n",
       "      <td>5</td>\n",
       "      <td>7</td>\n",
       "      <td>16</td>\n",
       "      <td>1977</td>\n",
       "      <td>3</td>\n",
       "      <td>DM</td>\n",
       "      <td>M</td>\n",
       "      <td>35</td>\n",
       "      <td>None</td>\n",
       "    </tr>\n",
       "  </tbody>\n",
       "</table>\n",
       "</div>"
      ],
      "text/plain": [
       "  record_id month day  year plot_id species_id sex hindfoot_length weight\n",
       "0         1     7  16  1977       2         NL   M              32   None\n",
       "1         2     7  16  1977       3         NL   M              33   None\n",
       "2         3     7  16  1977       2         DM   F              37   None\n",
       "3         4     7  16  1977       7         DM   M              36   None\n",
       "4         5     7  16  1977       3         DM   M              35   None"
      ]
     },
     "execution_count": 8,
     "metadata": {},
     "output_type": "execute_result"
    }
   ],
   "source": [
    "import pandas as pd\n",
    "\n",
    "surveys_df.limit(5).toPandas()"
   ]
  },
  {
   "cell_type": "code",
   "execution_count": 9,
   "id": "e40ff19a-ce73-40f2-b1ab-9f1f75500a1a",
   "metadata": {},
   "outputs": [
    {
     "data": {
      "text/plain": [
       "13937"
      ]
     },
     "execution_count": 9,
     "metadata": {},
     "output_type": "execute_result"
    }
   ],
   "source": [
    "surveys_df.select(\"record_id\").where(surveys_df.weight > 40).count()"
   ]
  },
  {
   "cell_type": "code",
   "execution_count": 10,
   "id": "348311e7-8d80-4b0d-9979-2164ea2a1e24",
   "metadata": {},
   "outputs": [
    {
     "data": {
      "text/plain": [
       "[Row(record_id='64', year='1977'),\n",
       " Row(record_id='66', year='1977'),\n",
       " Row(record_id='68', year='1977'),\n",
       " Row(record_id='79', year='1977'),\n",
       " Row(record_id='82', year='1977')]"
      ]
     },
     "execution_count": 10,
     "metadata": {},
     "output_type": "execute_result"
    }
   ],
   "source": [
    "surveys_df.select(\"record_id\",\"year\").where(surveys_df.weight > 40).take(5)"
   ]
  },
  {
   "cell_type": "code",
   "execution_count": 11,
   "id": "e7ece3a7-0994-471d-9424-5b31db4363d2",
   "metadata": {},
   "outputs": [
    {
     "data": {
      "text/plain": [
       "['record_id',\n",
       " 'month',\n",
       " 'day',\n",
       " 'year',\n",
       " 'plot_id',\n",
       " 'species_id',\n",
       " 'sex',\n",
       " 'hindfoot_length',\n",
       " 'weight']"
      ]
     },
     "execution_count": 11,
     "metadata": {},
     "output_type": "execute_result"
    }
   ],
   "source": [
    "surveys_df.columns"
   ]
  },
  {
   "cell_type": "code",
   "execution_count": 12,
   "id": "073d7790-5ee8-454e-b4cb-9f484fdbfa10",
   "metadata": {},
   "outputs": [
    {
     "data": {
      "text/plain": [
       "[Row(record_id='1', month='7', day='16', year='1977', species_id='NL', sex='M', hindfoot_length='32', weight=None),\n",
       " Row(record_id='2', month='7', day='16', year='1977', species_id='NL', sex='M', hindfoot_length='33', weight=None),\n",
       " Row(record_id='3', month='7', day='16', year='1977', species_id='DM', sex='F', hindfoot_length='37', weight=None),\n",
       " Row(record_id='4', month='7', day='16', year='1977', species_id='DM', sex='M', hindfoot_length='36', weight=None),\n",
       " Row(record_id='5', month='7', day='16', year='1977', species_id='DM', sex='M', hindfoot_length='35', weight=None)]"
      ]
     },
     "execution_count": 12,
     "metadata": {},
     "output_type": "execute_result"
    }
   ],
   "source": [
    "surveys_df.drop(\"plot_id\").take(5)"
   ]
  },
  {
   "cell_type": "code",
   "execution_count": 13,
   "id": "4d30531f-6c51-4913-9193-3de40c05141c",
   "metadata": {},
   "outputs": [
    {
     "data": {
      "text/plain": [
       "49"
      ]
     },
     "execution_count": 13,
     "metadata": {},
     "output_type": "execute_result"
    }
   ],
   "source": [
    "surveys_df.select(\"species_id\").distinct().count()"
   ]
  },
  {
   "cell_type": "code",
   "execution_count": 14,
   "id": "c375df88-45b7-43d8-a334-c232bffef89d",
   "metadata": {},
   "outputs": [
    {
     "name": "stdout",
     "output_type": "stream",
     "text": [
      "+----------+\n",
      "|species_id|\n",
      "+----------+\n",
      "|        RF|\n",
      "|        PC|\n",
      "|        PM|\n",
      "|        SC|\n",
      "|        PU|\n",
      "|        RO|\n",
      "|        PI|\n",
      "|        NL|\n",
      "|        PL|\n",
      "|        PF|\n",
      "|        UR|\n",
      "|        OL|\n",
      "|        UL|\n",
      "|      null|\n",
      "|        SO|\n",
      "|        PG|\n",
      "|        DX|\n",
      "|        CV|\n",
      "|        SU|\n",
      "|        SA|\n",
      "+----------+\n",
      "only showing top 20 rows\n",
      "\n"
     ]
    }
   ],
   "source": [
    "surveys_df.select(\"species_id\").distinct().show()"
   ]
  },
  {
   "cell_type": "code",
   "execution_count": 15,
   "id": "751602d2-b670-4341-bed4-fc2d400b0d83",
   "metadata": {},
   "outputs": [
    {
     "data": {
      "text/plain": [
       "[Row(year='1977', species_id='NL', count=31),\n",
       " Row(year='1977', species_id='DS', count=98),\n",
       " Row(year='1977', species_id=None, count=16),\n",
       " Row(year='1977', species_id='OX', count=7),\n",
       " Row(year='1977', species_id='DO', count=12)]"
      ]
     },
     "execution_count": 15,
     "metadata": {},
     "output_type": "execute_result"
    }
   ],
   "source": [
    "surveys_df.groupBy(\"year\",\"species_id\").count().orderBy(\"year\").take(5)"
   ]
  },
  {
   "cell_type": "code",
   "execution_count": 16,
   "id": "513151bb-2886-44b2-9af0-9a2b7bdb32e1",
   "metadata": {},
   "outputs": [
    {
     "data": {
      "text/plain": [
       "[Row(record_id='5764', month='4', day='29', year='1982', plot_id='3', species_id='RF', sex='M', hindfoot_length='17', weight='12'),\n",
       " Row(record_id='7029', month='11', day='21', year='1982', plot_id='15', species_id='RF', sex='M', hindfoot_length='16', weight='11'),\n",
       " Row(record_id='14062', month='2', day='21', year='1988', plot_id='19', species_id='RF', sex='F', hindfoot_length='17', weight='11'),\n",
       " Row(record_id='14257', month='3', day='20', year='1988', plot_id='19', species_id='RF', sex='F', hindfoot_length='19', weight='12'),\n",
       " Row(record_id='14361', month='4', day='17', year='1988', plot_id='23', species_id='RF', sex='F', hindfoot_length='17', weight='13')]"
      ]
     },
     "execution_count": 16,
     "metadata": {},
     "output_type": "execute_result"
    }
   ],
   "source": [
    "surveys_df.where(surveys_df.species_id==\"RF\").take(5)"
   ]
  },
  {
   "cell_type": "code",
   "execution_count": 17,
   "id": "bc41bbdf-4a09-4322-be59-708f7fcda26e",
   "metadata": {},
   "outputs": [
    {
     "data": {
      "text/plain": [
       "[Row(record_id='1', month='7', day='16', year='1977', plot_id='2', species_id='NL', sex='M', hindfoot_length='32', weight=None),\n",
       " Row(record_id='2', month='7', day='16', year='1977', plot_id='3', species_id='NL', sex='M', hindfoot_length='33', weight=None),\n",
       " Row(record_id='3', month='7', day='16', year='1977', plot_id='2', species_id='DM', sex='F', hindfoot_length='37', weight=None),\n",
       " Row(record_id='4', month='7', day='16', year='1977', plot_id='7', species_id='DM', sex='M', hindfoot_length='36', weight=None),\n",
       " Row(record_id='5', month='7', day='16', year='1977', plot_id='3', species_id='DM', sex='M', hindfoot_length='35', weight=None)]"
      ]
     },
     "execution_count": 17,
     "metadata": {},
     "output_type": "execute_result"
    }
   ],
   "source": [
    "surveys_df.where(~(surveys_df.species_id==\"RF\")).take(5)"
   ]
  },
  {
   "cell_type": "code",
   "execution_count": 18,
   "id": "8bc60a44-667e-45ad-9944-62426c47dea9",
   "metadata": {},
   "outputs": [
    {
     "data": {
      "text/plain": [
       "[Row(record_id='3', month='7', day='16', year='1977', plot_id='2', species_id='DM', sex='F', hindfoot_length='37', weight=None),\n",
       " Row(record_id='4', month='7', day='16', year='1977', plot_id='7', species_id='DM', sex='M', hindfoot_length='36', weight=None),\n",
       " Row(record_id='5', month='7', day='16', year='1977', plot_id='3', species_id='DM', sex='M', hindfoot_length='35', weight=None),\n",
       " Row(record_id='8', month='7', day='16', year='1977', plot_id='1', species_id='DM', sex='M', hindfoot_length='37', weight=None),\n",
       " Row(record_id='9', month='7', day='16', year='1977', plot_id='1', species_id='DM', sex='F', hindfoot_length='34', weight=None)]"
      ]
     },
     "execution_count": 18,
     "metadata": {},
     "output_type": "execute_result"
    }
   ],
   "source": [
    "surveys_df.where(surveys_df.species_id.like(\"D%\")).take(5)"
   ]
  },
  {
   "cell_type": "markdown",
   "id": "3c0f08e9-4019-47d3-a7b0-55d40cc81f01",
   "metadata": {
    "tags": []
   },
   "source": [
    "## Register"
   ]
  },
  {
   "cell_type": "code",
   "execution_count": 19,
   "id": "ca68bc9d-34f3-4402-8009-028d41e039de",
   "metadata": {},
   "outputs": [],
   "source": [
    "surveys_df.registerTempTable(\"surveys\")"
   ]
  },
  {
   "cell_type": "markdown",
   "id": "fed57429-1c17-4b66-9b48-c0ac70a35697",
   "metadata": {},
   "source": [
    "### With spark object"
   ]
  },
  {
   "cell_type": "code",
   "execution_count": 20,
   "id": "1ada543b-ce83-4e2a-86dc-351b567451f7",
   "metadata": {},
   "outputs": [
    {
     "data": {
      "text/plain": [
       "[Row(record_id='64'),\n",
       " Row(record_id='66'),\n",
       " Row(record_id='68'),\n",
       " Row(record_id='79'),\n",
       " Row(record_id='82')]"
      ]
     },
     "execution_count": 20,
     "metadata": {},
     "output_type": "execute_result"
    }
   ],
   "source": [
    "spark.sql(\"SELECT record_id FROM surveys WHERE weight > 40\").take(5)"
   ]
  },
  {
   "cell_type": "code",
   "execution_count": 21,
   "id": "094ce11f-997d-4a69-8860-dbcf839c6707",
   "metadata": {},
   "outputs": [
    {
     "data": {
      "text/plain": [
       "[Row(record_id='1', month='7', day='16', year='1977', plot_id='2', species_id='NL', sex='M', hindfoot_length='32', weight=None),\n",
       " Row(record_id='2', month='7', day='16', year='1977', plot_id='3', species_id='NL', sex='M', hindfoot_length='33', weight=None),\n",
       " Row(record_id='3', month='7', day='16', year='1977', plot_id='2', species_id='DM', sex='F', hindfoot_length='37', weight=None),\n",
       " Row(record_id='4', month='7', day='16', year='1977', plot_id='7', species_id='DM', sex='M', hindfoot_length='36', weight=None),\n",
       " Row(record_id='5', month='7', day='16', year='1977', plot_id='3', species_id='DM', sex='M', hindfoot_length='35', weight=None)]"
      ]
     },
     "execution_count": 21,
     "metadata": {},
     "output_type": "execute_result"
    }
   ],
   "source": [
    "spark.sql(\"SELECT * FROM surveys WHERE species_id NOT IN ('RF')\").take(5)"
   ]
  },
  {
   "cell_type": "code",
   "execution_count": 22,
   "id": "0cd38616-6e8c-4e73-b114-5ebf000aef8a",
   "metadata": {},
   "outputs": [
    {
     "data": {
      "text/plain": [
       "[Row(year='1977', species_id='NL', count(record_id)=31),\n",
       " Row(year='1977', species_id='DS', count(record_id)=98),\n",
       " Row(year='1977', species_id=None, count(record_id)=16),\n",
       " Row(year='1977', species_id='OX', count(record_id)=7),\n",
       " Row(year='1977', species_id='DO', count(record_id)=12)]"
      ]
     },
     "execution_count": 22,
     "metadata": {},
     "output_type": "execute_result"
    }
   ],
   "source": [
    "spark.sql(\"SELECT year, species_id, COUNT(record_id) FROM surveys GROUP BY year, species_id ORDER BY year\").take(5)"
   ]
  },
  {
   "cell_type": "code",
   "execution_count": 23,
   "id": "f0ee34bf-52fc-4816-9a32-3a6dad83639f",
   "metadata": {},
   "outputs": [
    {
     "data": {
      "text/plain": [
       "[Row(record_id='3', month='7', day='16', year='1977', plot_id='2', species_id='DM', sex='F', hindfoot_length='37', weight=None),\n",
       " Row(record_id='4', month='7', day='16', year='1977', plot_id='7', species_id='DM', sex='M', hindfoot_length='36', weight=None),\n",
       " Row(record_id='5', month='7', day='16', year='1977', plot_id='3', species_id='DM', sex='M', hindfoot_length='35', weight=None),\n",
       " Row(record_id='8', month='7', day='16', year='1977', plot_id='1', species_id='DM', sex='M', hindfoot_length='37', weight=None),\n",
       " Row(record_id='9', month='7', day='16', year='1977', plot_id='1', species_id='DM', sex='F', hindfoot_length='34', weight=None)]"
      ]
     },
     "execution_count": 23,
     "metadata": {},
     "output_type": "execute_result"
    }
   ],
   "source": [
    "spark.sql(\"SELECT * FROM surveys WHERE species_id LIKE 'D%'\").take(5)"
   ]
  },
  {
   "cell_type": "markdown",
   "id": "858b6b01-18af-4ea3-aaa3-44da93a8b5c5",
   "metadata": {
    "tags": []
   },
   "source": [
    "### register multiple tables"
   ]
  },
  {
   "cell_type": "code",
   "execution_count": 24,
   "id": "00f16433-7543-42c3-8fa6-6e80659da314",
   "metadata": {},
   "outputs": [
    {
     "data": {
      "text/plain": [
       "[Row(species_id='AB', genus='Amphispiza', species='bilineata', taxa='Bird'),\n",
       " Row(species_id='AH', genus='Ammospermophilus', species='harrisi', taxa='Rodent-not censused'),\n",
       " Row(species_id='AS', genus='Ammodramus', species='savannarum', taxa='Bird'),\n",
       " Row(species_id='BA', genus='Baiomys', species='taylori', taxa='Rodent'),\n",
       " Row(species_id='CB', genus='Campylorhynchus', species='brunneicapillus', taxa='Bird')]"
      ]
     },
     "execution_count": 24,
     "metadata": {},
     "output_type": "execute_result"
    }
   ],
   "source": [
    "species_df = spark.read.options(header='true').csv('species.csv')\n",
    "\n",
    "species_df.registerTempTable(\"species\")\n",
    "\n",
    "spark.sql(\"SELECT * FROM species\").take(5)"
   ]
  },
  {
   "cell_type": "code",
   "execution_count": 25,
   "id": "12978d5f-aabe-43d1-96fd-9b5c3506bed9",
   "metadata": {},
   "outputs": [
    {
     "name": "stdout",
     "output_type": "stream",
     "text": [
      "+---------+-----+---+----+-------+----------+----+---------------+------+----------+-----------+------------+------+\n",
      "|record_id|month|day|year|plot_id|species_id| sex|hindfoot_length|weight|species_id|      genus|     species|  taxa|\n",
      "+---------+-----+---+----+-------+----------+----+---------------+------+----------+-----------+------------+------+\n",
      "|        3|    7| 16|1977|      2|        DM|   F|             37|  null|        DM|  Dipodomys|    merriami|Rodent|\n",
      "|        4|    7| 16|1977|      7|        DM|   M|             36|  null|        DM|  Dipodomys|    merriami|Rodent|\n",
      "|        5|    7| 16|1977|      3|        DM|   M|             35|  null|        DM|  Dipodomys|    merriami|Rodent|\n",
      "|        6|    7| 16|1977|      1|        PF|   M|             14|  null|        PF|Perognathus|      flavus|Rodent|\n",
      "|        7|    7| 16|1977|      2|        PE|   F|           null|  null|        PE| Peromyscus|    eremicus|Rodent|\n",
      "|        8|    7| 16|1977|      1|        DM|   M|             37|  null|        DM|  Dipodomys|    merriami|Rodent|\n",
      "|        9|    7| 16|1977|      1|        DM|   F|             34|  null|        DM|  Dipodomys|    merriami|Rodent|\n",
      "|       10|    7| 16|1977|      6|        PF|   F|             20|  null|        PF|Perognathus|      flavus|Rodent|\n",
      "|       11|    7| 16|1977|      5|        DS|   F|             53|  null|        DS|  Dipodomys| spectabilis|Rodent|\n",
      "|       12|    7| 16|1977|      7|        DM|   M|             38|  null|        DM|  Dipodomys|    merriami|Rodent|\n",
      "|       13|    7| 16|1977|      3|        DM|   M|             35|  null|        DM|  Dipodomys|    merriami|Rodent|\n",
      "|       14|    7| 16|1977|      8|        DM|null|           null|  null|        DM|  Dipodomys|    merriami|Rodent|\n",
      "|       15|    7| 16|1977|      6|        DM|   F|             36|  null|        DM|  Dipodomys|    merriami|Rodent|\n",
      "|       16|    7| 16|1977|      4|        DM|   F|             36|  null|        DM|  Dipodomys|    merriami|Rodent|\n",
      "|       17|    7| 16|1977|      3|        DS|   F|             48|  null|        DS|  Dipodomys| spectabilis|Rodent|\n",
      "|       18|    7| 16|1977|      2|        PP|   M|             22|  null|        PP|Chaetodipus|penicillatus|Rodent|\n",
      "|       19|    7| 16|1977|      4|        PF|null|           null|  null|        PF|Perognathus|      flavus|Rodent|\n",
      "|       20|    7| 17|1977|     11|        DS|   F|             48|  null|        DS|  Dipodomys| spectabilis|Rodent|\n",
      "|       21|    7| 17|1977|     14|        DM|   F|             34|  null|        DM|  Dipodomys|    merriami|Rodent|\n",
      "|       23|    7| 17|1977|     13|        DM|   M|             36|  null|        DM|  Dipodomys|    merriami|Rodent|\n",
      "+---------+-----+---+----+-------+----------+----+---------------+------+----------+-----------+------------+------+\n",
      "only showing top 20 rows\n",
      "\n"
     ]
    }
   ],
   "source": [
    "spark.sql(\"SELECT * FROM surveys JOIN species ON surveys.species_id=species.species_id\").show()"
   ]
  },
  {
   "cell_type": "code",
   "execution_count": 26,
   "id": "c59fe744-34af-42e3-af5f-4bb72e7ec5ed",
   "metadata": {},
   "outputs": [
    {
     "data": {
      "text/plain": [
       "['species', 'surveys']"
      ]
     },
     "execution_count": 26,
     "metadata": {},
     "output_type": "execute_result"
    }
   ],
   "source": [
    "spark.tableNames()"
   ]
  },
  {
   "cell_type": "code",
   "execution_count": 27,
   "id": "d6eb2718-58c1-4437-985c-a9af64bcc296",
   "metadata": {},
   "outputs": [],
   "source": [
    "spark.dropTempTable(\"species\")"
   ]
  },
  {
   "cell_type": "code",
   "execution_count": 28,
   "id": "196a5189-0b5c-4c8a-83fe-88d5c1098829",
   "metadata": {},
   "outputs": [
    {
     "data": {
      "text/plain": [
       "StructType(List(StructField(record_id,StringType,true),StructField(month,StringType,true),StructField(day,StringType,true),StructField(year,StringType,true),StructField(plot_id,StringType,true),StructField(species_id,StringType,true),StructField(sex,StringType,true),StructField(hindfoot_length,StringType,true),StructField(weight,StringType,true)))"
      ]
     },
     "execution_count": 28,
     "metadata": {},
     "output_type": "execute_result"
    }
   ],
   "source": [
    "surveys_df.schema"
   ]
  },
  {
   "cell_type": "markdown",
   "id": "ed2eb9eb-c9ce-44c6-b5d3-c5bb7ec6d048",
   "metadata": {},
   "source": [
    "### giving schema to csv"
   ]
  },
  {
   "cell_type": "code",
   "execution_count": 46,
   "id": "266684f6-54dd-40a6-85d2-aba5b1b3fdfa",
   "metadata": {},
   "outputs": [],
   "source": [
    "from pyspark.sql.types import *\n",
    "\n",
    "survey_schema = StructType([StructField('record_id',IntegerType()), \n",
    "                     StructField('month',     ByteType()), \n",
    "                     StructField('day',       ByteType()), \n",
    "                     StructField('year',      ShortType()),\n",
    "                     StructField('plot_id',   IntegerType()),\n",
    "                     StructField('species_id',StringType()),\n",
    "                     StructField('sex',       StringType()),\n",
    "                     StructField('hindfoot_length',   FloatType()),\n",
    "                     StructField('weight',    FloatType())\n",
    "           ])"
   ]
  },
  {
   "cell_type": "code",
   "execution_count": 47,
   "id": "0491e02c-1877-4469-a669-b2df076919ab",
   "metadata": {},
   "outputs": [],
   "source": [
    "survey_df = spark.read.options(header='true').csv('surveys.csv', schema=survey_schema)"
   ]
  },
  {
   "cell_type": "code",
   "execution_count": 48,
   "id": "ed912063-95ba-43a0-a136-2cd8c28b0327",
   "metadata": {},
   "outputs": [],
   "source": [
    "survey_df_rdd = survey_df.rdd"
   ]
  },
  {
   "cell_type": "code",
   "execution_count": 54,
   "id": "c45c4e4d-d918-4ae4-91b1-37705a214736",
   "metadata": {},
   "outputs": [],
   "source": [
    "def calculate_ratio(row):\n",
    "    hindfoot_length = row[7]\n",
    "    weight = row[8]\n",
    "    ratio = hindfoot_length / weight if hindfoot_length is not None and weight is not None else None\n",
    "    return tuple(list(row) + [ratio])"
   ]
  },
  {
   "cell_type": "code",
   "execution_count": 55,
   "id": "acaf7978-00a0-4a29-a6eb-9e7b486cfb84",
   "metadata": {},
   "outputs": [],
   "source": [
    "survey_df_rdd_with_ratio = survey_df_rdd.map(calculate_ratio)"
   ]
  },
  {
   "cell_type": "code",
   "execution_count": 56,
   "id": "ae9bf54d-81f4-4dc7-8634-896ea3ef631e",
   "metadata": {},
   "outputs": [
    {
     "data": {
      "text/plain": [
       "[(1, 7, 16, 1977, 2, 'NL', 'M', 32.0, None, None)]"
      ]
     },
     "execution_count": 56,
     "metadata": {},
     "output_type": "execute_result"
    }
   ],
   "source": [
    "survey_df_rdd_with_ratio.take(1)"
   ]
  },
  {
   "cell_type": "code",
   "execution_count": 59,
   "id": "45fda8dd-c52a-4c57-b9a1-76a91d2facb4",
   "metadata": {},
   "outputs": [],
   "source": [
    "new_columns = survey_df.columns + [\"ratio\"]"
   ]
  },
  {
   "cell_type": "code",
   "execution_count": 61,
   "id": "0cfc88da-5d35-48de-848d-0e63c4fee059",
   "metadata": {},
   "outputs": [],
   "source": [
    "surveys_df = survey_df_rdd_with_ratio.toDF(new_columns, sampleRatio = 0.01)"
   ]
  },
  {
   "cell_type": "code",
   "execution_count": 63,
   "id": "251ef6e6-a247-4030-b602-d6f0583dba61",
   "metadata": {},
   "outputs": [
    {
     "data": {
      "text/plain": [
       "[Row(record_id=1, month=7, day=16, year=1977, plot_id=2, species_id='NL', sex='M', hindfoot_length=32.0, weight=None, ratio=None),\n",
       " Row(record_id=2, month=7, day=16, year=1977, plot_id=3, species_id='NL', sex='M', hindfoot_length=33.0, weight=None, ratio=None),\n",
       " Row(record_id=3, month=7, day=16, year=1977, plot_id=2, species_id='DM', sex='F', hindfoot_length=37.0, weight=None, ratio=None),\n",
       " Row(record_id=4, month=7, day=16, year=1977, plot_id=7, species_id='DM', sex='M', hindfoot_length=36.0, weight=None, ratio=None),\n",
       " Row(record_id=5, month=7, day=16, year=1977, plot_id=3, species_id='DM', sex='M', hindfoot_length=35.0, weight=None, ratio=None)]"
      ]
     },
     "execution_count": 63,
     "metadata": {},
     "output_type": "execute_result"
    }
   ],
   "source": [
    "surveys_df.head(5)"
   ]
  },
  {
   "cell_type": "code",
   "execution_count": 66,
   "id": "b943eb7e-165f-461b-89cf-210b3b5a3605",
   "metadata": {},
   "outputs": [],
   "source": [
    "from pyspark.sql.functions import col"
   ]
  },
  {
   "cell_type": "code",
   "execution_count": 67,
   "id": "14a20c33-2145-45e3-9510-69ffaa5f7e7e",
   "metadata": {},
   "outputs": [],
   "source": [
    "filtered_surveys_df = surveys_df.where(col('ratio').isNotNull())"
   ]
  },
  {
   "cell_type": "code",
   "execution_count": 68,
   "id": "f6eb5062-13f2-4ecb-bfbf-3305b634f080",
   "metadata": {},
   "outputs": [
    {
     "data": {
      "text/plain": [
       "[Row(record_id=63, month=8, day=19, year=1977, plot_id=3, species_id='DM', sex='M', hindfoot_length=35.0, weight=40.0, ratio=0.875),\n",
       " Row(record_id=64, month=8, day=19, year=1977, plot_id=7, species_id='DM', sex='M', hindfoot_length=37.0, weight=48.0, ratio=0.7708333333333334),\n",
       " Row(record_id=65, month=8, day=19, year=1977, plot_id=4, species_id='DM', sex='F', hindfoot_length=34.0, weight=29.0, ratio=1.1724137931034482),\n",
       " Row(record_id=66, month=8, day=19, year=1977, plot_id=4, species_id='DM', sex='F', hindfoot_length=35.0, weight=46.0, ratio=0.7608695652173914),\n",
       " Row(record_id=67, month=8, day=19, year=1977, plot_id=7, species_id='DM', sex='M', hindfoot_length=35.0, weight=36.0, ratio=0.9722222222222222)]"
      ]
     },
     "execution_count": 68,
     "metadata": {},
     "output_type": "execute_result"
    }
   ],
   "source": [
    "filtered_surveys_df.head(5)"
   ]
  },
  {
   "cell_type": "code",
   "execution_count": null,
   "id": "4ae7fe84-568c-4529-9c13-e8b962fbf588",
   "metadata": {},
   "outputs": [],
   "source": []
  }
 ],
 "metadata": {
  "kernelspec": {
   "display_name": "Python 3.8",
   "language": "python",
   "name": "python3"
  },
  "language_info": {
   "codemirror_mode": {
    "name": "ipython",
    "version": 3
   },
   "file_extension": ".py",
   "mimetype": "text/x-python",
   "name": "python",
   "nbconvert_exporter": "python",
   "pygments_lexer": "ipython3",
   "version": "3.8.2"
  }
 },
 "nbformat": 4,
 "nbformat_minor": 5
}
